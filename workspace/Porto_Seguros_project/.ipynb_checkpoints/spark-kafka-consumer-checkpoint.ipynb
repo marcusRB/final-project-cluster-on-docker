{
 "cells": [
  {
   "cell_type": "code",
   "execution_count": 1,
   "id": "f3f87b82-06ff-40ed-971e-186e524c083b",
   "metadata": {},
   "outputs": [
    {
     "data": {
      "text/plain": [
       "'3.1.1'"
      ]
     },
     "execution_count": 1,
     "metadata": {},
     "output_type": "execute_result"
    }
   ],
   "source": [
    "import pyspark\n",
    "pyspark.__version__"
   ]
  },
  {
   "cell_type": "code",
   "execution_count": 2,
   "id": "011b79e4-1fb0-45db-b5a1-d7edf312fa45",
   "metadata": {},
   "outputs": [],
   "source": [
    "import os"
   ]
  },
  {
   "cell_type": "code",
   "execution_count": 3,
   "id": "3183b9cc-5541-415a-917c-d0837528ec8b",
   "metadata": {},
   "outputs": [],
   "source": [
    "# # setup arguments\n",
    "# os.environ['PYSPARK_SUBMIT_ARGS'] = '--packages org.apache.spark:spark-sql-kafka-0-10_2.12-3.1.1.jar'\n",
    "os.environ['PYSPARK_SUBMIT_ARGS'] = '--packages org.apache.spark:spark-streaming-kafka-0-8_2.11:2.1.0,org.apache.spark:spark-sql-kafka-0-10_2.11:2.1.0 pyspark-shell'"
   ]
  },
  {
   "cell_type": "code",
   "execution_count": 4,
   "id": "8a9dfbee-b46c-4c5b-b313-6bbd0350c8b4",
   "metadata": {},
   "outputs": [],
   "source": [
    "from pyspark.sql import SparkSession\n",
    "\n",
    "spark = SparkSession.\\\n",
    "        builder.\\\n",
    "        appName(\"pyspark-notebook\").\\\n",
    "        master(\"spark://spark-master:7077\").\\\n",
    "        getOrCreate()"
   ]
  },
  {
   "cell_type": "code",
   "execution_count": 5,
   "id": "b7dda47c-22ae-476c-aecd-3feb95189c7f",
   "metadata": {},
   "outputs": [
    {
     "data": {
      "text/html": [
       "\n",
       "            <div>\n",
       "                <p><b>SparkSession - in-memory</b></p>\n",
       "                \n",
       "        <div>\n",
       "            <p><b>SparkContext</b></p>\n",
       "\n",
       "            <p><a href=\"http://c0fc9bd31dd2:4040\">Spark UI</a></p>\n",
       "\n",
       "            <dl>\n",
       "              <dt>Version</dt>\n",
       "                <dd><code>v3.1.1</code></dd>\n",
       "              <dt>Master</dt>\n",
       "                <dd><code>spark://spark-master:7077</code></dd>\n",
       "              <dt>AppName</dt>\n",
       "                <dd><code>pyspark-notebook</code></dd>\n",
       "            </dl>\n",
       "        </div>\n",
       "        \n",
       "            </div>\n",
       "        "
      ],
      "text/plain": [
       "<pyspark.sql.session.SparkSession at 0x7f29f5eac748>"
      ]
     },
     "execution_count": 5,
     "metadata": {},
     "output_type": "execute_result"
    }
   ],
   "source": [
    "spark"
   ]
  },
  {
   "cell_type": "code",
   "execution_count": 6,
   "id": "c9e4708a-950c-45d0-991f-3cbb20b5f3c1",
   "metadata": {},
   "outputs": [],
   "source": [
    "from ast import literal_eval"
   ]
  },
  {
   "cell_type": "code",
   "execution_count": 7,
   "id": "513edc53-0395-40e0-a4cc-7e2e57e0fd3e",
   "metadata": {},
   "outputs": [],
   "source": [
    "# # default for startingOffsets is \"latest\", but \"earliest\" allows rewind for missed alerts    \n",
    "# KAFKA_BOOTSTRAP_SERVERS_CONS = 'kafka:9092'\n",
    "# KAFKA_TOPIC_NAME_CONS = 'sales-topic'\n",
    "# df = spark.readStream \\\n",
    "#      .format(\"kafka\") \\\n",
    "#      .option(\"kafka.bootstrap.servers\", KAFKA_BOOTSTRAP_SERVERS_CONS) \\\n",
    "#      .option(\"subscribe\", KAFKA_TOPIC_NAME_CONS) \\\n",
    "#      .option(\"startingOffsets\", \"earliest\") \\\n",
    "#      .option(\"failOnDataLoss\" ,\"false\")\\\n",
    "#      .load()"
   ]
  },
  {
   "cell_type": "code",
   "execution_count": 8,
   "id": "88c64db3-06fb-4614-8ad1-603637f4a0fd",
   "metadata": {
    "tags": []
   },
   "outputs": [
    {
     "ename": "KeyboardInterrupt",
     "evalue": "",
     "output_type": "error",
     "traceback": [
      "\u001b[0;31m---------------------------------------------------------------------------\u001b[0m",
      "\u001b[0;31mKeyboardInterrupt\u001b[0m                         Traceback (most recent call last)",
      "\u001b[0;32m<ipython-input-8-6fbc4e86c250>\u001b[0m in \u001b[0;36m<module>\u001b[0;34m\u001b[0m\n\u001b[1;32m      6\u001b[0m consumer = KafkaConsumer(topic,\n\u001b[1;32m      7\u001b[0m                          bootstrap_servers=['broker:29092'])\n\u001b[0;32m----> 8\u001b[0;31m \u001b[0;32mfor\u001b[0m \u001b[0mmessage\u001b[0m \u001b[0;32min\u001b[0m \u001b[0mconsumer\u001b[0m\u001b[0;34m:\u001b[0m\u001b[0;34m\u001b[0m\u001b[0;34m\u001b[0m\u001b[0m\n\u001b[0m\u001b[1;32m      9\u001b[0m     \u001b[0;31m# message value and key are raw bytes -- decode if necessary!\u001b[0m\u001b[0;34m\u001b[0m\u001b[0;34m\u001b[0m\u001b[0;34m\u001b[0m\u001b[0m\n\u001b[1;32m     10\u001b[0m     \u001b[0;31m# e.g., for unicode: `message.value.decode('utf-8')`\u001b[0m\u001b[0;34m\u001b[0m\u001b[0;34m\u001b[0m\u001b[0;34m\u001b[0m\u001b[0m\n",
      "\u001b[0;32m/usr/local/lib/python3.7/dist-packages/kafka/consumer/group.py\u001b[0m in \u001b[0;36m__next__\u001b[0;34m(self)\u001b[0m\n\u001b[1;32m   1179\u001b[0m             \u001b[0;32mreturn\u001b[0m \u001b[0mself\u001b[0m\u001b[0;34m.\u001b[0m\u001b[0mnext_v1\u001b[0m\u001b[0;34m(\u001b[0m\u001b[0;34m)\u001b[0m\u001b[0;34m\u001b[0m\u001b[0;34m\u001b[0m\u001b[0m\n\u001b[1;32m   1180\u001b[0m         \u001b[0;32melse\u001b[0m\u001b[0;34m:\u001b[0m\u001b[0;34m\u001b[0m\u001b[0;34m\u001b[0m\u001b[0m\n\u001b[0;32m-> 1181\u001b[0;31m             \u001b[0;32mreturn\u001b[0m \u001b[0mself\u001b[0m\u001b[0;34m.\u001b[0m\u001b[0mnext_v2\u001b[0m\u001b[0;34m(\u001b[0m\u001b[0;34m)\u001b[0m\u001b[0;34m\u001b[0m\u001b[0;34m\u001b[0m\u001b[0m\n\u001b[0m\u001b[1;32m   1182\u001b[0m \u001b[0;34m\u001b[0m\u001b[0m\n\u001b[1;32m   1183\u001b[0m     \u001b[0;32mdef\u001b[0m \u001b[0mnext_v2\u001b[0m\u001b[0;34m(\u001b[0m\u001b[0mself\u001b[0m\u001b[0;34m)\u001b[0m\u001b[0;34m:\u001b[0m\u001b[0;34m\u001b[0m\u001b[0;34m\u001b[0m\u001b[0m\n",
      "\u001b[0;32m/usr/local/lib/python3.7/dist-packages/kafka/consumer/group.py\u001b[0m in \u001b[0;36mnext_v2\u001b[0;34m(self)\u001b[0m\n\u001b[1;32m   1187\u001b[0m                 \u001b[0mself\u001b[0m\u001b[0;34m.\u001b[0m\u001b[0m_iterator\u001b[0m \u001b[0;34m=\u001b[0m \u001b[0mself\u001b[0m\u001b[0;34m.\u001b[0m\u001b[0m_message_generator_v2\u001b[0m\u001b[0;34m(\u001b[0m\u001b[0;34m)\u001b[0m\u001b[0;34m\u001b[0m\u001b[0;34m\u001b[0m\u001b[0m\n\u001b[1;32m   1188\u001b[0m             \u001b[0;32mtry\u001b[0m\u001b[0;34m:\u001b[0m\u001b[0;34m\u001b[0m\u001b[0;34m\u001b[0m\u001b[0m\n\u001b[0;32m-> 1189\u001b[0;31m                 \u001b[0;32mreturn\u001b[0m \u001b[0mnext\u001b[0m\u001b[0;34m(\u001b[0m\u001b[0mself\u001b[0m\u001b[0;34m.\u001b[0m\u001b[0m_iterator\u001b[0m\u001b[0;34m)\u001b[0m\u001b[0;34m\u001b[0m\u001b[0;34m\u001b[0m\u001b[0m\n\u001b[0m\u001b[1;32m   1190\u001b[0m             \u001b[0;32mexcept\u001b[0m \u001b[0mStopIteration\u001b[0m\u001b[0;34m:\u001b[0m\u001b[0;34m\u001b[0m\u001b[0;34m\u001b[0m\u001b[0m\n\u001b[1;32m   1191\u001b[0m                 \u001b[0mself\u001b[0m\u001b[0;34m.\u001b[0m\u001b[0m_iterator\u001b[0m \u001b[0;34m=\u001b[0m \u001b[0;32mNone\u001b[0m\u001b[0;34m\u001b[0m\u001b[0;34m\u001b[0m\u001b[0m\n",
      "\u001b[0;32m/usr/local/lib/python3.7/dist-packages/kafka/consumer/group.py\u001b[0m in \u001b[0;36m_message_generator_v2\u001b[0;34m(self)\u001b[0m\n\u001b[1;32m   1104\u001b[0m     \u001b[0;32mdef\u001b[0m \u001b[0m_message_generator_v2\u001b[0m\u001b[0;34m(\u001b[0m\u001b[0mself\u001b[0m\u001b[0;34m)\u001b[0m\u001b[0;34m:\u001b[0m\u001b[0;34m\u001b[0m\u001b[0;34m\u001b[0m\u001b[0m\n\u001b[1;32m   1105\u001b[0m         \u001b[0mtimeout_ms\u001b[0m \u001b[0;34m=\u001b[0m \u001b[0;36m1000\u001b[0m \u001b[0;34m*\u001b[0m \u001b[0;34m(\u001b[0m\u001b[0mself\u001b[0m\u001b[0;34m.\u001b[0m\u001b[0m_consumer_timeout\u001b[0m \u001b[0;34m-\u001b[0m \u001b[0mtime\u001b[0m\u001b[0;34m.\u001b[0m\u001b[0mtime\u001b[0m\u001b[0;34m(\u001b[0m\u001b[0;34m)\u001b[0m\u001b[0;34m)\u001b[0m\u001b[0;34m\u001b[0m\u001b[0;34m\u001b[0m\u001b[0m\n\u001b[0;32m-> 1106\u001b[0;31m         \u001b[0mrecord_map\u001b[0m \u001b[0;34m=\u001b[0m \u001b[0mself\u001b[0m\u001b[0;34m.\u001b[0m\u001b[0mpoll\u001b[0m\u001b[0;34m(\u001b[0m\u001b[0mtimeout_ms\u001b[0m\u001b[0;34m=\u001b[0m\u001b[0mtimeout_ms\u001b[0m\u001b[0;34m,\u001b[0m \u001b[0mupdate_offsets\u001b[0m\u001b[0;34m=\u001b[0m\u001b[0;32mFalse\u001b[0m\u001b[0;34m)\u001b[0m\u001b[0;34m\u001b[0m\u001b[0;34m\u001b[0m\u001b[0m\n\u001b[0m\u001b[1;32m   1107\u001b[0m         \u001b[0;32mfor\u001b[0m \u001b[0mtp\u001b[0m\u001b[0;34m,\u001b[0m \u001b[0mrecords\u001b[0m \u001b[0;32min\u001b[0m \u001b[0msix\u001b[0m\u001b[0;34m.\u001b[0m\u001b[0miteritems\u001b[0m\u001b[0;34m(\u001b[0m\u001b[0mrecord_map\u001b[0m\u001b[0;34m)\u001b[0m\u001b[0;34m:\u001b[0m\u001b[0;34m\u001b[0m\u001b[0;34m\u001b[0m\u001b[0m\n\u001b[1;32m   1108\u001b[0m             \u001b[0;31m# Generators are stateful, and it is possible that the tp / records\u001b[0m\u001b[0;34m\u001b[0m\u001b[0;34m\u001b[0m\u001b[0;34m\u001b[0m\u001b[0m\n",
      "\u001b[0;32m/usr/local/lib/python3.7/dist-packages/kafka/consumer/group.py\u001b[0m in \u001b[0;36mpoll\u001b[0;34m(self, timeout_ms, max_records, update_offsets)\u001b[0m\n\u001b[1;32m    643\u001b[0m         \u001b[0mremaining\u001b[0m \u001b[0;34m=\u001b[0m \u001b[0mtimeout_ms\u001b[0m\u001b[0;34m\u001b[0m\u001b[0;34m\u001b[0m\u001b[0m\n\u001b[1;32m    644\u001b[0m         \u001b[0;32mwhile\u001b[0m \u001b[0;32mTrue\u001b[0m\u001b[0;34m:\u001b[0m\u001b[0;34m\u001b[0m\u001b[0;34m\u001b[0m\u001b[0m\n\u001b[0;32m--> 645\u001b[0;31m             \u001b[0mrecords\u001b[0m \u001b[0;34m=\u001b[0m \u001b[0mself\u001b[0m\u001b[0;34m.\u001b[0m\u001b[0m_poll_once\u001b[0m\u001b[0;34m(\u001b[0m\u001b[0mremaining\u001b[0m\u001b[0;34m,\u001b[0m \u001b[0mmax_records\u001b[0m\u001b[0;34m,\u001b[0m \u001b[0mupdate_offsets\u001b[0m\u001b[0;34m=\u001b[0m\u001b[0mupdate_offsets\u001b[0m\u001b[0;34m)\u001b[0m\u001b[0;34m\u001b[0m\u001b[0;34m\u001b[0m\u001b[0m\n\u001b[0m\u001b[1;32m    646\u001b[0m             \u001b[0;32mif\u001b[0m \u001b[0mrecords\u001b[0m\u001b[0;34m:\u001b[0m\u001b[0;34m\u001b[0m\u001b[0;34m\u001b[0m\u001b[0m\n\u001b[1;32m    647\u001b[0m                 \u001b[0;32mreturn\u001b[0m \u001b[0mrecords\u001b[0m\u001b[0;34m\u001b[0m\u001b[0;34m\u001b[0m\u001b[0m\n",
      "\u001b[0;32m/usr/local/lib/python3.7/dist-packages/kafka/consumer/group.py\u001b[0m in \u001b[0;36m_poll_once\u001b[0;34m(self, timeout_ms, max_records, update_offsets)\u001b[0m\n\u001b[1;32m    690\u001b[0m \u001b[0;34m\u001b[0m\u001b[0m\n\u001b[1;32m    691\u001b[0m         \u001b[0mtimeout_ms\u001b[0m \u001b[0;34m=\u001b[0m \u001b[0mmin\u001b[0m\u001b[0;34m(\u001b[0m\u001b[0mtimeout_ms\u001b[0m\u001b[0;34m,\u001b[0m \u001b[0mself\u001b[0m\u001b[0;34m.\u001b[0m\u001b[0m_coordinator\u001b[0m\u001b[0;34m.\u001b[0m\u001b[0mtime_to_next_poll\u001b[0m\u001b[0;34m(\u001b[0m\u001b[0;34m)\u001b[0m \u001b[0;34m*\u001b[0m \u001b[0;36m1000\u001b[0m\u001b[0;34m)\u001b[0m\u001b[0;34m\u001b[0m\u001b[0;34m\u001b[0m\u001b[0m\n\u001b[0;32m--> 692\u001b[0;31m         \u001b[0mself\u001b[0m\u001b[0;34m.\u001b[0m\u001b[0m_client\u001b[0m\u001b[0;34m.\u001b[0m\u001b[0mpoll\u001b[0m\u001b[0;34m(\u001b[0m\u001b[0mtimeout_ms\u001b[0m\u001b[0;34m=\u001b[0m\u001b[0mtimeout_ms\u001b[0m\u001b[0;34m)\u001b[0m\u001b[0;34m\u001b[0m\u001b[0;34m\u001b[0m\u001b[0m\n\u001b[0m\u001b[1;32m    693\u001b[0m         \u001b[0;31m# after the long poll, we should check whether the group needs to rebalance\u001b[0m\u001b[0;34m\u001b[0m\u001b[0;34m\u001b[0m\u001b[0;34m\u001b[0m\u001b[0m\n\u001b[1;32m    694\u001b[0m         \u001b[0;31m# prior to returning data so that the group can stabilize faster\u001b[0m\u001b[0;34m\u001b[0m\u001b[0;34m\u001b[0m\u001b[0;34m\u001b[0m\u001b[0m\n",
      "\u001b[0;32m/usr/local/lib/python3.7/dist-packages/kafka/client_async.py\u001b[0m in \u001b[0;36mpoll\u001b[0;34m(self, timeout_ms, future)\u001b[0m\n\u001b[1;32m    596\u001b[0m                     \u001b[0mtimeout\u001b[0m \u001b[0;34m=\u001b[0m \u001b[0mmax\u001b[0m\u001b[0;34m(\u001b[0m\u001b[0;36m0\u001b[0m\u001b[0;34m,\u001b[0m \u001b[0mtimeout\u001b[0m\u001b[0;34m)\u001b[0m  \u001b[0;31m# avoid negative timeouts\u001b[0m\u001b[0;34m\u001b[0m\u001b[0;34m\u001b[0m\u001b[0m\n\u001b[1;32m    597\u001b[0m \u001b[0;34m\u001b[0m\u001b[0m\n\u001b[0;32m--> 598\u001b[0;31m                 \u001b[0mself\u001b[0m\u001b[0;34m.\u001b[0m\u001b[0m_poll\u001b[0m\u001b[0;34m(\u001b[0m\u001b[0mtimeout\u001b[0m \u001b[0;34m/\u001b[0m \u001b[0;36m1000\u001b[0m\u001b[0;34m)\u001b[0m\u001b[0;34m\u001b[0m\u001b[0;34m\u001b[0m\u001b[0m\n\u001b[0m\u001b[1;32m    599\u001b[0m \u001b[0;34m\u001b[0m\u001b[0m\n\u001b[1;32m    600\u001b[0m             \u001b[0;31m# called without the lock to avoid deadlock potential\u001b[0m\u001b[0;34m\u001b[0m\u001b[0;34m\u001b[0m\u001b[0;34m\u001b[0m\u001b[0m\n",
      "\u001b[0;32m/usr/local/lib/python3.7/dist-packages/kafka/client_async.py\u001b[0m in \u001b[0;36m_poll\u001b[0;34m(self, timeout)\u001b[0m\n\u001b[1;32m    628\u001b[0m \u001b[0;34m\u001b[0m\u001b[0m\n\u001b[1;32m    629\u001b[0m         \u001b[0mstart_select\u001b[0m \u001b[0;34m=\u001b[0m \u001b[0mtime\u001b[0m\u001b[0;34m.\u001b[0m\u001b[0mtime\u001b[0m\u001b[0;34m(\u001b[0m\u001b[0;34m)\u001b[0m\u001b[0;34m\u001b[0m\u001b[0;34m\u001b[0m\u001b[0m\n\u001b[0;32m--> 630\u001b[0;31m         \u001b[0mready\u001b[0m \u001b[0;34m=\u001b[0m \u001b[0mself\u001b[0m\u001b[0;34m.\u001b[0m\u001b[0m_selector\u001b[0m\u001b[0;34m.\u001b[0m\u001b[0mselect\u001b[0m\u001b[0;34m(\u001b[0m\u001b[0mtimeout\u001b[0m\u001b[0;34m)\u001b[0m\u001b[0;34m\u001b[0m\u001b[0;34m\u001b[0m\u001b[0m\n\u001b[0m\u001b[1;32m    631\u001b[0m         \u001b[0mend_select\u001b[0m \u001b[0;34m=\u001b[0m \u001b[0mtime\u001b[0m\u001b[0;34m.\u001b[0m\u001b[0mtime\u001b[0m\u001b[0;34m(\u001b[0m\u001b[0;34m)\u001b[0m\u001b[0;34m\u001b[0m\u001b[0;34m\u001b[0m\u001b[0m\n\u001b[1;32m    632\u001b[0m         \u001b[0;32mif\u001b[0m \u001b[0mself\u001b[0m\u001b[0;34m.\u001b[0m\u001b[0m_sensors\u001b[0m\u001b[0;34m:\u001b[0m\u001b[0;34m\u001b[0m\u001b[0;34m\u001b[0m\u001b[0m\n",
      "\u001b[0;32m/usr/lib/python3.7/selectors.py\u001b[0m in \u001b[0;36mselect\u001b[0;34m(self, timeout)\u001b[0m\n\u001b[1;32m    466\u001b[0m             \u001b[0mready\u001b[0m \u001b[0;34m=\u001b[0m \u001b[0;34m[\u001b[0m\u001b[0;34m]\u001b[0m\u001b[0;34m\u001b[0m\u001b[0;34m\u001b[0m\u001b[0m\n\u001b[1;32m    467\u001b[0m             \u001b[0;32mtry\u001b[0m\u001b[0;34m:\u001b[0m\u001b[0;34m\u001b[0m\u001b[0;34m\u001b[0m\u001b[0m\n\u001b[0;32m--> 468\u001b[0;31m                 \u001b[0mfd_event_list\u001b[0m \u001b[0;34m=\u001b[0m \u001b[0mself\u001b[0m\u001b[0;34m.\u001b[0m\u001b[0m_selector\u001b[0m\u001b[0;34m.\u001b[0m\u001b[0mpoll\u001b[0m\u001b[0;34m(\u001b[0m\u001b[0mtimeout\u001b[0m\u001b[0;34m,\u001b[0m \u001b[0mmax_ev\u001b[0m\u001b[0;34m)\u001b[0m\u001b[0;34m\u001b[0m\u001b[0;34m\u001b[0m\u001b[0m\n\u001b[0m\u001b[1;32m    469\u001b[0m             \u001b[0;32mexcept\u001b[0m \u001b[0mInterruptedError\u001b[0m\u001b[0;34m:\u001b[0m\u001b[0;34m\u001b[0m\u001b[0;34m\u001b[0m\u001b[0m\n\u001b[1;32m    470\u001b[0m                 \u001b[0;32mreturn\u001b[0m \u001b[0mready\u001b[0m\u001b[0;34m\u001b[0m\u001b[0;34m\u001b[0m\u001b[0m\n",
      "\u001b[0;31mKeyboardInterrupt\u001b[0m: "
     ]
    }
   ],
   "source": [
    "import json\n",
    "from kafka import KafkaConsumer\n",
    "\n",
    "topic = 'dev.vm-dev-tfm-uoc.crm-topic'\n",
    "# To consume latest messages and auto-commit offsets\n",
    "consumer = KafkaConsumer(topic,\n",
    "                         bootstrap_servers=['broker:29092'])\n",
    "for message in consumer:\n",
    "    # message value and key are raw bytes -- decode if necessary!\n",
    "    # e.g., for unicode: `message.value.decode('utf-8')`\n",
    "    print (\"%s:%d:%d: key=%s val=%s \" % (message.topic, message.partition,\n",
    "                                         message.offset, message.key, message.value))"
   ]
  },
  {
   "cell_type": "code",
   "execution_count": null,
   "id": "7b7e159c-91b4-4bd1-9eae-27685f49b723",
   "metadata": {},
   "outputs": [],
   "source": [
    "# consume earliest available messages, don't commit offsets\n",
    "KafkaConsumer(auto_offset_reset='earliest', enable_auto_commit=False)"
   ]
  },
  {
   "cell_type": "code",
   "execution_count": null,
   "id": "c65e26b7-8d31-4db5-a5df-24cc398e9f7d",
   "metadata": {},
   "outputs": [],
   "source": []
  },
  {
   "cell_type": "code",
   "execution_count": 8,
   "id": "cef45114-b3ac-4d94-be03-f987312e833b",
   "metadata": {
    "collapsed": true,
    "jupyter": {
     "outputs_hidden": true
    },
    "tags": []
   },
   "outputs": [
    {
     "name": "stdout",
     "output_type": "stream",
     "text": [
      "dev.vm-dev-tfm-uoc.crm-topic:2:207: key=b'{\"shop\": \"Circular Pi Pizzeria\"}' val=b'{\"id\": 8, \"shop\": \"Circular Pi Pizzeria\", \"created_at\": \"08:29:47 PM\", \"name\": \"Tamara Haro Morillo\", \"phoneNumber\": \"+34932 707 167\", \"address\": \"Plaza de Juan Luis Suarez 33\\\\nBurgos, 14701\", \"pizzas\": [{\"pizzaName\": \"Marinara\", \"additionalToppings\": [\"mozzarella\", \"olives\", \"strawberry\"]}], \"units\": 1, \"totalAmount\": 36.69, \"customerEmail\": \"bernardita46@hotmail.com\", \"docID\": \"R5662349I\", \"licensePlate\": \"0848 LYC\"}' \n",
      "dev.vm-dev-tfm-uoc.crm-topic:1:193: key=b'{\"shop\": \"Its-a me! Mario Pizza!\"}' val=b'{\"id\": 9, \"shop\": \"Its-a me! Mario Pizza!\", \"created_at\": \"08:29:58 PM\", \"name\": \"\\\\u00c1gata Andrea Baquero Llobet\", \"phoneNumber\": \"+34 709 57 38 10\", \"address\": \"Pasaje de Narciso Ure\\\\u00f1a 13 Puerta 1 \\\\nMelilla, 61981\", \"pizzas\": [{\"pizzaName\": \"Mari & Monti\", \"additionalToppings\": [\"mozzarella\", \"olives\", \"pineapple\", \"olives\", \"anchovies\"]}, {\"pizzaName\": \"Diavola\", \"additionalToppings\": []}, {\"pizzaName\": \"Margherita\", \"additionalToppings\": []}, {\"pizzaName\": \"Capricciosa\", \"additionalToppings\": [\"banana\", \"olives\", \"onion\"]}], \"units\": 4, \"totalAmount\": 215.36, \"customerEmail\": \"rcanals@serra.es\", \"docID\": \"64110418B\", \"licensePlate\": \"9112 CLB\"}' \n",
      "dev.vm-dev-tfm-uoc.crm-topic:0:484: key=b'{\"shop\": \"Da Pulcinella\"}' val=b'{\"id\": 10, \"shop\": \"Da Pulcinella\", \"created_at\": \"08:30:09 PM\", \"name\": \"Constanza Mendiz\\\\u00e1bal Mas\", \"phoneNumber\": \"+34 719 58 06 16\", \"address\": \"Alameda Brunilda Morales 80 Apt. 87 \\\\nPontevedra, 92150\", \"pizzas\": [{\"pizzaName\": \"Barbacue\", \"additionalToppings\": [\"artichokes\", \"artichokes\"]}], \"units\": 1, \"totalAmount\": 36.24, \"customerEmail\": \"sandramarquez@rius.es\", \"docID\": \"54815615Z\", \"licensePlate\": \"6649 CVW\"}' \n",
      "dev.vm-dev-tfm-uoc.crm-topic:0:485: key=b'{\"shop\": \"Da Pulcinella\"}' val=b'{\"id\": 11, \"shop\": \"Da Pulcinella\", \"created_at\": \"08:30:26 PM\", \"name\": \"Lope del Castell\\\\u00f3\", \"phoneNumber\": \"+34635 35 75 39\", \"address\": \"Glorieta de Valerio Ruano 16\\\\nBaleares, 04045\", \"pizzas\": [{\"pizzaName\": \"Margherita\", \"additionalToppings\": [\"ham\", \"olives\", \"banana\", \"pineapple\", \"onion\"]}, {\"pizzaName\": \"Mari & Monti\", \"additionalToppings\": [\"strawberry\"]}], \"units\": 2, \"totalAmount\": 93.9, \"customerEmail\": \"iarroyo@hotmail.com\", \"docID\": \"Z7629967K\", \"licensePlate\": \"8595 WBB\"}' \n",
      "dev.vm-dev-tfm-uoc.crm-topic:2:208: key=b'{\"shop\": \"Circular Pi Pizzeria\"}' val=b'{\"id\": 12, \"shop\": \"Circular Pi Pizzeria\", \"created_at\": \"08:30:30 PM\", \"name\": \"Rub\\\\u00e9n Palma Molins\", \"phoneNumber\": \"+34743497712\", \"address\": \"Pasadizo de Ezequiel Salgado 300\\\\nJa\\\\u00e9n, 14332\", \"pizzas\": [{\"pizzaName\": \"Hawaiiana\", \"additionalToppings\": [\"green peppers\", \"strawberry\", \"onion\", \"strawberry\"]}], \"units\": 1, \"totalAmount\": 45.42, \"customerEmail\": \"jmorillo@giner-roca.es\", \"docID\": \"Z5561848Q\", \"licensePlate\": \"1213 LTV\"}' \n",
      "dev.vm-dev-tfm-uoc.crm-topic:1:194: key=b'{\"shop\": \"Its-a me! Mario Pizza!\"}' val=b'{\"id\": 13, \"shop\": \"Its-a me! Mario Pizza!\", \"created_at\": \"08:30:46 PM\", \"name\": \"Diana Merino Calatayud\", \"phoneNumber\": \"+34 989 45 74 86\", \"address\": \"Rambla de Aroa Garay 11 Piso 1 \\\\nCantabria, 53382\", \"pizzas\": [{\"pizzaName\": \"Diavola\", \"additionalToppings\": []}, {\"pizzaName\": \"Barbacue\", \"additionalToppings\": [\"tuna\", \"tuna\"]}, {\"pizzaName\": \"Margherita\", \"additionalToppings\": [\"olives\", \"tomato\", \"anchovies\", \"salami\", \"artichokes\"]}, {\"pizzaName\": \"Margherita\", \"additionalToppings\": [\"ham\", \"anchovies\", \"blue cheese\", \"pineapple\", \"artichokes\"]}, {\"pizzaName\": \"Marinara\", \"additionalToppings\": [\"salami\", \"ham\"]}, {\"pizzaName\": \"Salami\", \"additionalToppings\": []}, {\"pizzaName\": \"Salami\", \"additionalToppings\": [\"green peppers\"]}, {\"pizzaName\": \"Hawaiiana\", \"additionalToppings\": [\"mozzarella\"]}, {\"pizzaName\": \"Hawaiiana\", \"additionalToppings\": [\"blue cheese\", \"anchovies\", \"anchovies\", \"artichokes\", \"onion\"]}], \"units\": 9, \"totalAmount\": 146.96999999999997, \"customerEmail\": \"torresagueda@segura.es\", \"docID\": \"V3971693A\", \"licensePlate\": \"7900 NWX\"}' \n",
      "dev.vm-dev-tfm-uoc.crm-topic:0:486: key=b'{\"shop\": \"Luigis Pizza\"}' val=b'{\"id\": 14, \"shop\": \"Luigis Pizza\", \"created_at\": \"08:30:55 PM\", \"name\": \"Am\\\\u00edlcar Diez Luz\", \"phoneNumber\": \"+34736024252\", \"address\": \"Urbanizaci\\\\u00f3n de Cintia Segarra 46 Apt. 99 \\\\nGranada, 84085\", \"pizzas\": [{\"pizzaName\": \"Diavola\", \"additionalToppings\": [\"olives\", \"banana\"]}, {\"pizzaName\": \"Capricciosa\", \"additionalToppings\": [\"tuna\", \"pineapple\"]}, {\"pizzaName\": \"Salsiccia & Patate\", \"additionalToppings\": [\"olives\", \"tuna\", \"onion\", \"tomato\"]}, {\"pizzaName\": \"Mari & Monti\", \"additionalToppings\": [\"banana\", \"tuna\", \"pineapple\"]}, {\"pizzaName\": \"Marinara\", \"additionalToppings\": [\"tomato\", \"pineapple\", \"pineapple\", \"anchovies\", \"tuna\"]}, {\"pizzaName\": \"Capricciosa\", \"additionalToppings\": [\"garlic\", \"artichokes\", \"strawberry\"]}, {\"pizzaName\": \"Salami\", \"additionalToppings\": [\"pineapple\", \"garlic\", \"onion\", \"tuna\"]}, {\"pizzaName\": \"Marinara\", \"additionalToppings\": [\"salami\"]}, {\"pizzaName\": \"Salami\", \"additionalToppings\": [\"olives\", \"tomato\", \"ham\", \"olives\", \"banana\"]}, {\"pizzaName\": \"Diavola\", \"additionalToppings\": [\"blue cheese\", \"banana\"]}], \"units\": 10, \"totalAmount\": 166.9, \"customerEmail\": \"anselmo04@blazquez.com\", \"docID\": \"X4358585Q\", \"licensePlate\": \"5279 WJD\"}' \n",
      "dev.vm-dev-tfm-uoc.crm-topic:1:195: key=b'{\"shop\": \"Piccolo Chef\"}' val=b'{\"id\": 15, \"shop\": \"Piccolo Chef\", \"created_at\": \"08:31:04 PM\", \"name\": \"Ester Cepeda Sainz\", \"phoneNumber\": \"+34743 936 038\", \"address\": \"Camino de Jose Ram\\\\u00f3n Su\\\\u00e1rez 59\\\\nGuip\\\\u00fazcoa, 25441\", \"pizzas\": [{\"pizzaName\": \"Salsiccia & Patate\", \"additionalToppings\": [\"onion\"]}, {\"pizzaName\": \"Carbonara\", \"additionalToppings\": []}, {\"pizzaName\": \"Margherita\", \"additionalToppings\": []}, {\"pizzaName\": \"Carbonara\", \"additionalToppings\": [\"pineapple\", \"banana\", \"olives\", \"mozzarella\", \"pineapple\"]}, {\"pizzaName\": \"Barbacue\", \"additionalToppings\": [\"pineapple\", \"ham\", \"anchovies\"]}, {\"pizzaName\": \"Salami\", \"additionalToppings\": []}, {\"pizzaName\": \"Barbacue\", \"additionalToppings\": [\"mozzarella\", \"strawberry\", \"strawberry\"]}, {\"pizzaName\": \"Barbacue\", \"additionalToppings\": []}, {\"pizzaName\": \"Barbacue\", \"additionalToppings\": [\"anchovies\", \"artichokes\", \"tomato\", \"olives\"]}], \"units\": 9, \"totalAmount\": 473.40000000000003, \"customerEmail\": \"victoria76@hotmail.com\", \"docID\": \"32270283H\", \"licensePlate\": \"6503 BWH\"}' \n",
      "dev.vm-dev-tfm-uoc.crm-topic:3:114: key=b'{\"shop\": \"Pizzeria Vesuvio\"}' val=b'{\"id\": 16, \"shop\": \"Pizzeria Vesuvio\", \"created_at\": \"08:31:05 PM\", \"name\": \"Jose Antonio Luz Carro\", \"phoneNumber\": \"+34654854303\", \"address\": \"Ronda Pac\\\\u00edfica Ant\\\\u00fanez 45 Puerta 4 \\\\nM\\\\u00e1laga, 98004\", \"pizzas\": [{\"pizzaName\": \"Barbacue\", \"additionalToppings\": [\"banana\", \"blue cheese\", \"strawberry\"]}], \"units\": 1, \"totalAmount\": 40.05, \"customerEmail\": \"gisbertcarolina@gmail.com\", \"docID\": \"63949679L\", \"licensePlate\": \"1995 TCN\"}' \n",
      "dev.vm-dev-tfm-uoc.crm-topic:2:209: key=b'{\"shop\": \"Circular Pi Pizzeria\"}' val=b'{\"id\": 17, \"shop\": \"Circular Pi Pizzeria\", \"created_at\": \"08:31:10 PM\", \"name\": \"Cornelio Mart\\\\u00ednez Vilalta\", \"phoneNumber\": \"+34 983 80 56 14\", \"address\": \"Vial Marcelino Ballesteros 527 Apt. 21 \\\\nCantabria, 35847\", \"pizzas\": [{\"pizzaName\": \"Carbonara\", \"additionalToppings\": [\"olives\", \"pineapple\", \"pineapple\", \"banana\", \"olives\"]}, {\"pizzaName\": \"Barbacue\", \"additionalToppings\": [\"artichokes\", \"tomato\"]}, {\"pizzaName\": \"Salami\", \"additionalToppings\": []}, {\"pizzaName\": \"Marinara\", \"additionalToppings\": [\"ham\"]}, {\"pizzaName\": \"Diavola\", \"additionalToppings\": [\"ham\", \"tuna\", \"garlic\", \"strawberry\"]}, {\"pizzaName\": \"Barbacue\", \"additionalToppings\": [\"tomato\", \"tomato\", \"green peppers\", \"salami\", \"mozzarella\"]}, {\"pizzaName\": \"Hawaiiana\", \"additionalToppings\": [\"anchovies\", \"garlic\", \"strawberry\", \"mozzarella\", \"strawberry\"]}, {\"pizzaName\": \"Margherita\", \"additionalToppings\": []}, {\"pizzaName\": \"Margherita\", \"additionalToppings\": [\"onion\"]}, {\"pizzaName\": \"Salami\", \"additionalToppings\": [\"artichokes\", \"salami\", \"onion\", \"green peppers\", \"olives\"]}], \"units\": 10, \"totalAmount\": 478.0, \"customerEmail\": \"rosadobarbara@daza-cadenas.es\", \"docID\": \"X3978475G\", \"licensePlate\": \"0867 VRW\"}' \n",
      "dev.vm-dev-tfm-uoc.crm-topic:1:196: key=b'{\"shop\": \"Piccolo Chef\"}' val=b'{\"id\": 18, \"shop\": \"Piccolo Chef\", \"created_at\": \"08:31:24 PM\", \"name\": \"Mariano Andreu\", \"phoneNumber\": \"+34 604 593 299\", \"address\": \"Callej\\\\u00f3n Primitiva Garrido 34 Piso 8 \\\\nM\\\\u00e1laga, 11748\", \"pizzas\": [{\"pizzaName\": \"Marinara\", \"additionalToppings\": [\"artichokes\", \"banana\", \"ham\", \"banana\", \"blue cheese\"]}], \"units\": 1, \"totalAmount\": 58.5, \"customerEmail\": \"lmarquez@gmail.com\", \"docID\": \"52588684N\", \"licensePlate\": \"4464 WKK\"}' \n",
      "dev.vm-dev-tfm-uoc.crm-topic:0:487: key=b'{\"shop\": \"Marios Pizza\"}' val=b'{\"id\": 19, \"shop\": \"Marios Pizza\", \"created_at\": \"08:31:40 PM\", \"name\": \"Cleto Querol Nicolau\", \"phoneNumber\": \"+34 744035854\", \"address\": \"Pasadizo de Sandalio Lled\\\\u00f3 13 Puerta 4 \\\\nHuelva, 25870\", \"pizzas\": [{\"pizzaName\": \"Capricciosa\", \"additionalToppings\": [\"pineapple\", \"ham\", \"olives\"]}, {\"pizzaName\": \"Barbacue\", \"additionalToppings\": [\"olives\", \"garlic\"]}, {\"pizzaName\": \"Salami\", \"additionalToppings\": [\"mozzarella\", \"tomato\", \"blue cheese\"]}, {\"pizzaName\": \"Barbacue\", \"additionalToppings\": [\"mozzarella\", \"tomato\", \"onion\"]}, {\"pizzaName\": \"Capricciosa\", \"additionalToppings\": [\"strawberry\", \"mozzarella\", \"garlic\"]}, {\"pizzaName\": \"Salami\", \"additionalToppings\": [\"artichokes\", \"anchovies\", \"olives\", \"artichokes\"]}, {\"pizzaName\": \"Prosciutto & Rucula\", \"additionalToppings\": [\"garlic\", \"banana\", \"ham\", \"tomato\"]}, {\"pizzaName\": \"Hawaiiana\", \"additionalToppings\": [\"strawberry\", \"banana\", \"olives\"]}, {\"pizzaName\": \"Salami\", \"additionalToppings\": []}], \"units\": 9, \"totalAmount\": 430.02, \"customerEmail\": \"guadalupegarrido@casado.es\", \"docID\": \"05576206V\", \"licensePlate\": \"2825 NCK\"}' \n",
      "dev.vm-dev-tfm-uoc.crm-topic:3:115: key=b'{\"shop\": \"Pizzeria Vesuvio\"}' val=b'{\"id\": 20, \"shop\": \"Pizzeria Vesuvio\", \"created_at\": \"08:31:56 PM\", \"name\": \"Aitor Gil-Oca\\\\u00f1a\", \"phoneNumber\": \"+34709 145 165\", \"address\": \"Alameda Esteban Tamarit 10\\\\nLa Rioja, 09158\", \"pizzas\": [{\"pizzaName\": \"Capricciosa\", \"additionalToppings\": [\"tuna\", \"artichokes\", \"salami\"]}, {\"pizzaName\": \"Margherita\", \"additionalToppings\": [\"onion\", \"mozzarella\", \"olives\"]}, {\"pizzaName\": \"Barbacue\", \"additionalToppings\": [\"ham\"]}], \"units\": 3, \"totalAmount\": 130.89000000000001, \"customerEmail\": \"cristinapeinado@yahoo.com\", \"docID\": \"72890248M\", \"licensePlate\": \"6782 LCB\"}' \n",
      "dev.vm-dev-tfm-uoc.crm-topic:0:488: key=b'{\"shop\": \"Luigis Pizza\"}' val=b'{\"id\": 21, \"shop\": \"Luigis Pizza\", \"created_at\": \"08:32:07 PM\", \"name\": \"Xavier Morata Gomis\", \"phoneNumber\": \"+34 991280679\", \"address\": \"Avenida de Javi Amaya 1\\\\nOurense, 53580\", \"pizzas\": [{\"pizzaName\": \"Carbonara\", \"additionalToppings\": []}, {\"pizzaName\": \"Salami\", \"additionalToppings\": [\"olives\", \"tomato\", \"blue cheese\", \"olives\", \"garlic\"]}, {\"pizzaName\": \"Salsiccia & Patate\", \"additionalToppings\": [\"onion\", \"green peppers\", \"tomato\", \"tuna\"]}, {\"pizzaName\": \"Barbacue\", \"additionalToppings\": [\"olives\", \"strawberry\", \"olives\", \"anchovies\", \"artichokes\"]}], \"units\": 4, \"totalAmount\": 58.28, \"customerEmail\": \"lcastells@rocha.com\", \"docID\": \"N8028086J\", \"licensePlate\": \"3497 NKN\"}' \n",
      "dev.vm-dev-tfm-uoc.crm-topic:1:197: key=b'{\"shop\": \"Piccolo Chef\"}' val=b'{\"id\": 22, \"shop\": \"Piccolo Chef\", \"created_at\": \"08:32:17 PM\", \"name\": \"Narcisa de Garcia\", \"phoneNumber\": \"+34 672267761\", \"address\": \"Callej\\\\u00f3n Lupe Carrillo 4 Puerta 2 \\\\nLa Rioja, 22255\", \"pizzas\": [{\"pizzaName\": \"Barbacue\", \"additionalToppings\": []}, {\"pizzaName\": \"Mari & Monti\", \"additionalToppings\": [\"olives\"]}, {\"pizzaName\": \"Margherita\", \"additionalToppings\": [\"tomato\", \"green peppers\"]}, {\"pizzaName\": \"Margherita\", \"additionalToppings\": [\"garlic\", \"tuna\", \"ham\"]}, {\"pizzaName\": \"Margherita\", \"additionalToppings\": []}], \"units\": 5, \"totalAmount\": 98.80000000000001, \"customerEmail\": \"roldan40@julian.com\", \"docID\": \"D83462861\", \"licensePlate\": \"1099 WKW\"}' \n",
      "dev.vm-dev-tfm-uoc.crm-topic:0:489: key=b'{\"shop\": \"Ill Make You a Pizza You Cant Refuse\"}' val=b'{\"id\": 23, \"shop\": \"Ill Make You a Pizza You Cant Refuse\", \"created_at\": \"08:32:19 PM\", \"name\": \"Sof\\\\u00eda Lozano\", \"phoneNumber\": \"+34 747 66 20 37\", \"address\": \"Calle de Celestino Madrigal 386 Puerta 4 \\\\nBaleares, 31886\", \"pizzas\": [{\"pizzaName\": \"Barbacue\", \"additionalToppings\": [\"mozzarella\", \"anchovies\", \"ham\", \"anchovies\"]}, {\"pizzaName\": \"Carbonara\", \"additionalToppings\": [\"onion\", \"tomato\", \"olives\", \"blue cheese\"]}, {\"pizzaName\": \"Marinara\", \"additionalToppings\": [\"ham\", \"ham\", \"artichokes\", \"artichokes\"]}, {\"pizzaName\": \"Diavola\", \"additionalToppings\": [\"mozzarella\", \"blue cheese\", \"olives\"]}, {\"pizzaName\": \"Hawaiiana\", \"additionalToppings\": [\"olives\"]}], \"units\": 5, \"totalAmount\": 252.65, \"customerEmail\": \"albino55@yahoo.com\", \"docID\": \"V5605633F\", \"licensePlate\": \"6694 XBM\"}' \n",
      "dev.vm-dev-tfm-uoc.crm-topic:1:198: key=b'{\"shop\": \"Piccolo Chef\"}' val=b'{\"id\": 24, \"shop\": \"Piccolo Chef\", \"created_at\": \"08:32:32 PM\", \"name\": \"Cebri\\\\u00e1n Infante Velasco\", \"phoneNumber\": \"+34 743685225\", \"address\": \"Rambla de Gloria Corbacho 58\\\\nPontevedra, 36916\", \"pizzas\": [{\"pizzaName\": \"Mari & Monti\", \"additionalToppings\": []}, {\"pizzaName\": \"Margherita\", \"additionalToppings\": [\"mozzarella\"]}, {\"pizzaName\": \"Hawaiiana\", \"additionalToppings\": [\"pineapple\", \"blue cheese\", \"olives\", \"garlic\"]}, {\"pizzaName\": \"Margherita\", \"additionalToppings\": [\"pineapple\", \"mozzarella\", \"ham\"]}], \"units\": 4, \"totalAmount\": 77.32, \"customerEmail\": \"jserra@querol-valdes.com\", \"docID\": \"X7045068F\", \"licensePlate\": \"5043 RMV\"}' \n",
      "dev.vm-dev-tfm-uoc.crm-topic:3:116: key=b'{\"shop\": \"Pizzeria Vesuvio\"}' val=b'{\"id\": 25, \"shop\": \"Pizzeria Vesuvio\", \"created_at\": \"08:32:39 PM\", \"name\": \"Mohamed Baena\", \"phoneNumber\": \"+34 736 664 834\", \"address\": \"Glorieta de Calista Gimenez 789\\\\nSanta Cruz de Tenerife, 32730\", \"pizzas\": [{\"pizzaName\": \"Diavola\", \"additionalToppings\": [\"olives\", \"olives\"]}, {\"pizzaName\": \"Mari & Monti\", \"additionalToppings\": [\"anchovies\", \"blue cheese\", \"pineapple\"]}, {\"pizzaName\": \"Diavola\", \"additionalToppings\": [\"salami\", \"strawberry\", \"tomato\"]}, {\"pizzaName\": \"Margherita\", \"additionalToppings\": [\"olives\", \"salami\", \"artichokes\", \"green peppers\"]}, {\"pizzaName\": \"Prosciutto & Rucula\", \"additionalToppings\": [\"anchovies\", \"artichokes\", \"anchovies\"]}, {\"pizzaName\": \"Diavola\", \"additionalToppings\": [\"salami\", \"banana\"]}, {\"pizzaName\": \"Prosciutto & Rucula\", \"additionalToppings\": [\"onion\"]}, {\"pizzaName\": \"Margherita\", \"additionalToppings\": []}, {\"pizzaName\": \"Margherita\", \"additionalToppings\": []}, {\"pizzaName\": \"Mari & Monti\", \"additionalToppings\": []}], \"units\": 10, \"totalAmount\": 307.1, \"customerEmail\": \"herminia24@hotmail.com\", \"docID\": \"94538214A\", \"licensePlate\": \"3702 MYN\"}' \n",
      "dev.vm-dev-tfm-uoc.crm-topic:0:490: key=b'{\"shop\": \"Ill Make You a Pizza You Cant Refuse\"}' val=b'{\"id\": 26, \"shop\": \"Ill Make You a Pizza You Cant Refuse\", \"created_at\": \"08:32:42 PM\", \"name\": \"Gema Sancho-Lu\\\\u00eds\", \"phoneNumber\": \"+34 838576304\", \"address\": \"Ronda Patricia Cases 63 Apt. 19 \\\\nOurense, 43866\", \"pizzas\": [{\"pizzaName\": \"Hawaiiana\", \"additionalToppings\": [\"blue cheese\"]}, {\"pizzaName\": \"Capricciosa\", \"additionalToppings\": [\"olives\", \"tuna\", \"artichokes\", \"olives\"]}, {\"pizzaName\": \"Barbacue\", \"additionalToppings\": [\"strawberry\", \"green peppers\"]}, {\"pizzaName\": \"Salsiccia & Patate\", \"additionalToppings\": [\"blue cheese\", \"onion\", \"olives\", \"tuna\"]}, {\"pizzaName\": \"Carbonara\", \"additionalToppings\": [\"blue cheese\"]}], \"units\": 5, \"totalAmount\": 95.0, \"customerEmail\": \"cornelio51@cerda.com\", \"docID\": \"81898864G\", \"licensePlate\": \"4977 KTP\"}' \n",
      "dev.vm-dev-tfm-uoc.crm-topic:1:199: key=b'{\"shop\": \"Piccolo Chef\"}' val=b'{\"id\": 27, \"shop\": \"Piccolo Chef\", \"created_at\": \"08:32:43 PM\", \"name\": \"Azahar Bauz\\\\u00e0 Cueto\", \"phoneNumber\": \"+34 711 156 719\", \"address\": \"Ca\\\\u00f1ada de Emilia Lobo 27 Puerta 5 \\\\nLas Palmas, 45104\", \"pizzas\": [{\"pizzaName\": \"Hawaiiana\", \"additionalToppings\": [\"anchovies\"]}], \"units\": 1, \"totalAmount\": 57.06, \"customerEmail\": \"adelaidasalinas@alcolea.com\", \"docID\": \"60969433K\", \"licensePlate\": \"3584 HWK\"}' \n",
      "dev.vm-dev-tfm-uoc.crm-topic:1:200: key=b'{\"shop\": \"Its-a me! Mario Pizza!\"}' val=b'{\"id\": 28, \"shop\": \"Its-a me! Mario Pizza!\", \"created_at\": \"08:32:58 PM\", \"name\": \"Rosa Mar\\\\u00eda Osuna-Vilaplana\", \"phoneNumber\": \"+34 747655624\", \"address\": \"Cuesta de Y\\\\u00e9ssica Llamas 47\\\\nC\\\\u00f3rdoba, 16135\", \"pizzas\": [{\"pizzaName\": \"Marinara\", \"additionalToppings\": []}, {\"pizzaName\": \"Hawaiiana\", \"additionalToppings\": [\"mozzarella\", \"olives\", \"artichokes\", \"onion\", \"garlic\"]}, {\"pizzaName\": \"Marinara\", \"additionalToppings\": [\"onion\", \"salami\", \"olives\", \"tomato\", \"ham\"]}, {\"pizzaName\": \"Salsiccia & Patate\", \"additionalToppings\": [\"garlic\", \"ham\", \"salami\", \"pineapple\"]}, {\"pizzaName\": \"Hawaiiana\", \"additionalToppings\": [\"strawberry\", \"tuna\", \"anchovies\", \"onion\"]}, {\"pizzaName\": \"Capricciosa\", \"additionalToppings\": [\"onion\", \"mozzarella\", \"banana\", \"banana\", \"green peppers\"]}, {\"pizzaName\": \"Margherita\", \"additionalToppings\": [\"salami\", \"salami\", \"artichokes\", \"blue cheese\", \"olives\"]}, {\"pizzaName\": \"Marinara\", \"additionalToppings\": [\"blue cheese\", \"artichokes\", \"pineapple\"]}, {\"pizzaName\": \"Diavola\", \"additionalToppings\": []}, {\"pizzaName\": \"Capricciosa\", \"additionalToppings\": [\"strawberry\", \"strawberry\", \"blue cheese\", \"salami\", \"artichokes\"]}], \"units\": 10, \"totalAmount\": 261.5, \"customerEmail\": \"juan-franciscorossello@melendez.net\", \"docID\": \"R7347203G\", \"licensePlate\": \"0816 RCV\"}' \n",
      "dev.vm-dev-tfm-uoc.crm-topic:1:201: key=b'{\"shop\": \"Its-a me! Mario Pizza!\"}' val=b'{\"id\": 29, \"shop\": \"Its-a me! Mario Pizza!\", \"created_at\": \"08:33:12 PM\", \"name\": \"Gil Saez Cuervo\", \"phoneNumber\": \"+34 834 067 690\", \"address\": \"Avenida de Marc Hidalgo 70 Apt. 85 \\\\nTeruel, 99640\", \"pizzas\": [{\"pizzaName\": \"Salsiccia & Patate\", \"additionalToppings\": [\"banana\", \"onion\", \"salami\", \"strawberry\", \"olives\"]}, {\"pizzaName\": \"Barbacue\", \"additionalToppings\": [\"olives\", \"blue cheese\"]}, {\"pizzaName\": \"Prosciutto & Rucula\", \"additionalToppings\": [\"green peppers\", \"artichokes\", \"blue cheese\", \"onion\", \"artichokes\"]}, {\"pizzaName\": \"Salsiccia & Patate\", \"additionalToppings\": []}, {\"pizzaName\": \"Salsiccia & Patate\", \"additionalToppings\": [\"ham\"]}, {\"pizzaName\": \"Carbonara\", \"additionalToppings\": [\"tomato\", \"tomato\", \"tomato\"]}], \"units\": 6, \"totalAmount\": 308.70000000000005, \"customerEmail\": \"salcazar@gimeno.com\", \"docID\": \"27496914T\", \"licensePlate\": \"0876 KBF\"}' \n",
      "dev.vm-dev-tfm-uoc.crm-topic:1:202: key=b'{\"shop\": \"Piccolo Chef\"}' val=b'{\"id\": 30, \"shop\": \"Piccolo Chef\", \"created_at\": \"08:33:13 PM\", \"name\": \"Santiago Pomares Isern\", \"phoneNumber\": \"+34712 440 189\", \"address\": \"Rambla Cecilio Salvador 73\\\\nJa\\\\u00e9n, 00069\", \"pizzas\": [{\"pizzaName\": \"Mari & Monti\", \"additionalToppings\": [\"blue cheese\", \"blue cheese\", \"onion\", \"anchovies\", \"garlic\"]}, {\"pizzaName\": \"Prosciutto & Rucula\", \"additionalToppings\": [\"green peppers\", \"olives\"]}, {\"pizzaName\": \"Carbonara\", \"additionalToppings\": [\"blue cheese\", \"olives\"]}, {\"pizzaName\": \"Salsiccia & Patate\", \"additionalToppings\": [\"onion\", \"pineapple\"]}, {\"pizzaName\": \"Margherita\", \"additionalToppings\": [\"tomato\"]}, {\"pizzaName\": \"Prosciutto & Rucula\", \"additionalToppings\": [\"olives\", \"garlic\", \"olives\", \"blue cheese\", \"onion\"]}, {\"pizzaName\": \"Hawaiiana\", \"additionalToppings\": [\"olives\"]}, {\"pizzaName\": \"Salsiccia & Patate\", \"additionalToppings\": [\"blue cheese\"]}, {\"pizzaName\": \"Carbonara\", \"additionalToppings\": [\"onion\", \"onion\", \"tuna\"]}, {\"pizzaName\": \"Barbacue\", \"additionalToppings\": [\"olives\"]}], \"units\": 10, \"totalAmount\": 564.9, \"customerEmail\": \"miriam94@caceres.es\", \"docID\": \"X1430544J\", \"licensePlate\": \"8836 RDV\"}' \n",
      "dev.vm-dev-tfm-uoc.crm-topic:1:203: key=b'{\"shop\": \"Piccolo Chef\"}' val=b'{\"id\": 31, \"shop\": \"Piccolo Chef\", \"created_at\": \"08:33:21 PM\", \"name\": \"Jose Cerezo Chamorro\", \"phoneNumber\": \"+34 631 94 48 00\", \"address\": \"Rambla Manolo Molina 36 Puerta 1 \\\\nZamora, 39122\", \"pizzas\": [{\"pizzaName\": \"Salsiccia & Patate\", \"additionalToppings\": [\"blue cheese\", \"salami\"]}, {\"pizzaName\": \"Prosciutto & Rucula\", \"additionalToppings\": []}, {\"pizzaName\": \"Prosciutto & Rucula\", \"additionalToppings\": []}, {\"pizzaName\": \"Capricciosa\", \"additionalToppings\": [\"artichokes\", \"tuna\", \"garlic\", \"artichokes\"]}, {\"pizzaName\": \"Salsiccia & Patate\", \"additionalToppings\": [\"ham\", \"banana\", \"green peppers\", \"tuna\"]}], \"units\": 5, \"totalAmount\": 272.25, \"customerEmail\": \"rosa-mariallopis@hotmail.com\", \"docID\": \"Z2590713K\", \"licensePlate\": \"1537 VGZ\"}' \n",
      "dev.vm-dev-tfm-uoc.crm-topic:1:204: key=b'{\"shop\": \"Its-a me! Mario Pizza!\"}' val=b'{\"id\": 32, \"shop\": \"Its-a me! Mario Pizza!\", \"created_at\": \"08:33:29 PM\", \"name\": \"Fabricio del Soria\", \"phoneNumber\": \"+34706 838 359\", \"address\": \"Cuesta de Lucila Llad\\\\u00f3 4\\\\nBadajoz, 88879\", \"pizzas\": [{\"pizzaName\": \"Hawaiiana\", \"additionalToppings\": [\"green peppers\", \"garlic\"]}], \"units\": 1, \"totalAmount\": 39.13, \"customerEmail\": \"nelidahervas@gmail.com\", \"docID\": \"R5715129B\", \"licensePlate\": \"6265 TNS\"}' \n",
      "dev.vm-dev-tfm-uoc.crm-topic:0:491: key=b'{\"shop\": \"Ill Make You a Pizza You Cant Refuse\"}' val=b'{\"id\": 33, \"shop\": \"Ill Make You a Pizza You Cant Refuse\", \"created_at\": \"08:33:31 PM\", \"name\": \"Agapito Juan Antonio Puig Ben\\\\u00edtez\", \"phoneNumber\": \"+34732458382\", \"address\": \"Ca\\\\u00f1ada de Rita Gallardo 90 Apt. 26 \\\\nValladolid, 92807\", \"pizzas\": [{\"pizzaName\": \"Prosciutto & Rucula\", \"additionalToppings\": [\"olives\", \"anchovies\", \"banana\", \"olives\"]}, {\"pizzaName\": \"Salsiccia & Patate\", \"additionalToppings\": [\"anchovies\", \"olives\", \"olives\", \"olives\"]}, {\"pizzaName\": \"Prosciutto & Rucula\", \"additionalToppings\": [\"artichokes\", \"tomato\"]}, {\"pizzaName\": \"Capricciosa\", \"additionalToppings\": [\"onion\", \"pineapple\"]}, {\"pizzaName\": \"Margherita\", \"additionalToppings\": [\"tomato\", \"artichokes\", \"artichokes\"]}, {\"pizzaName\": \"Carbonara\", \"additionalToppings\": [\"garlic\", \"green peppers\", \"anchovies\", \"tuna\", \"green peppers\"]}, {\"pizzaName\": \"Margherita\", \"additionalToppings\": [\"blue cheese\", \"ham\", \"olives\", \"artichokes\", \"salami\"]}, {\"pizzaName\": \"Hawaiiana\", \"additionalToppings\": [\"pineapple\", \"garlic\", \"anchovies\"]}], \"units\": 8, \"totalAmount\": 237.6, \"customerEmail\": \"soledad54@rios.es\", \"docID\": \"R2701965B\", \"licensePlate\": \"0472 HYG\"}' \n",
      "dev.vm-dev-tfm-uoc.crm-topic:0:492: key=b'{\"shop\": \"Ill Make You a Pizza You Cant Refuse\"}' val=b'{\"id\": 34, \"shop\": \"Ill Make You a Pizza You Cant Refuse\", \"created_at\": \"08:33:44 PM\", \"name\": \"Herminia Pablo Pino\", \"phoneNumber\": \"+34 730 291 481\", \"address\": \"C. Raimundo Vives 85 Piso 0 \\\\nToledo, 15025\", \"pizzas\": [{\"pizzaName\": \"Salsiccia & Patate\", \"additionalToppings\": [\"tomato\", \"anchovies\", \"pineapple\"]}], \"units\": 1, \"totalAmount\": 13.72, \"customerEmail\": \"trini33@gmail.com\", \"docID\": \"Z5884472L\", \"licensePlate\": \"5338 NBH\"}' \n",
      "dev.vm-dev-tfm-uoc.crm-topic:0:493: key=b'{\"shop\": \"Da Pulcinella\"}' val=b'{\"id\": 35, \"shop\": \"Da Pulcinella\", \"created_at\": \"08:33:51 PM\", \"name\": \"Ana Sof\\\\u00eda Ni\\\\u00f1o Gil\", \"phoneNumber\": \"+34985 05 39 57\", \"address\": \"Cuesta de Jose Manuel Camino 703 Piso 1 \\\\nGuip\\\\u00fazcoa, 26340\", \"pizzas\": [{\"pizzaName\": \"Diavola\", \"additionalToppings\": [\"garlic\", \"mozzarella\", \"olives\", \"onion\", \"green peppers\"]}, {\"pizzaName\": \"Salami\", \"additionalToppings\": [\"artichokes\", \"strawberry\", \"anchovies\"]}, {\"pizzaName\": \"Marinara\", \"additionalToppings\": [\"strawberry\", \"banana\"]}, {\"pizzaName\": \"Prosciutto & Rucula\", \"additionalToppings\": [\"mozzarella\", \"strawberry\", \"olives\", \"strawberry\", \"ham\"]}, {\"pizzaName\": \"Prosciutto & Rucula\", \"additionalToppings\": [\"pineapple\", \"anchovies\"]}, {\"pizzaName\": \"Hawaiiana\", \"additionalToppings\": [\"artichokes\", \"artichokes\", \"garlic\"]}, {\"pizzaName\": \"Diavola\", \"additionalToppings\": [\"artichokes\"]}, {\"pizzaName\": \"Prosciutto & Rucula\", \"additionalToppings\": [\"olives\", \"garlic\", \"pineapple\", \"onion\", \"salami\"]}, {\"pizzaName\": \"Barbacue\", \"additionalToppings\": []}], \"units\": 9, \"totalAmount\": 499.23, \"customerEmail\": \"juanito04@colom.es\", \"docID\": \"D71559280\", \"licensePlate\": \"8009 KKV\"}' \n",
      "dev.vm-dev-tfm-uoc.crm-topic:0:494: key=b'{\"shop\": \"Marios Pizza\"}' val=b'{\"id\": 36, \"shop\": \"Marios Pizza\", \"created_at\": \"08:34:08 PM\", \"name\": \"Olga Sol\\\\u00eds Ripoll\", \"phoneNumber\": \"+34801 843 399\", \"address\": \"Glorieta de Martina Arco 9 Apt. 14 \\\\nC\\\\u00f3rdoba, 98625\", \"pizzas\": [{\"pizzaName\": \"Hawaiiana\", \"additionalToppings\": [\"olives\", \"olives\"]}, {\"pizzaName\": \"Hawaiiana\", \"additionalToppings\": [\"green peppers\", \"pineapple\"]}, {\"pizzaName\": \"Diavola\", \"additionalToppings\": [\"ham\"]}, {\"pizzaName\": \"Barbacue\", \"additionalToppings\": []}, {\"pizzaName\": \"Prosciutto & Rucula\", \"additionalToppings\": [\"strawberry\"]}, {\"pizzaName\": \"Mari & Monti\", \"additionalToppings\": []}, {\"pizzaName\": \"Hawaiiana\", \"additionalToppings\": [\"anchovies\"]}], \"units\": 7, \"totalAmount\": 332.43, \"customerEmail\": \"vilaruy@figueras-alcantara.com\", \"docID\": \"81700790Y\", \"licensePlate\": \"5690 VDN\"}' \n",
      "dev.vm-dev-tfm-uoc.crm-topic:0:495: key=b'{\"shop\": \"Mammamia Pizza\"}' val=b'{\"id\": 37, \"shop\": \"Mammamia Pizza\", \"created_at\": \"08:34:13 PM\", \"name\": \"Lope de Donoso\", \"phoneNumber\": \"+34 902 11 27 91\", \"address\": \"Ca\\\\u00f1ada Paca Bustos 55 Puerta 6 \\\\nBarcelona, 04073\", \"pizzas\": [{\"pizzaName\": \"Capricciosa\", \"additionalToppings\": []}, {\"pizzaName\": \"Salsiccia & Patate\", \"additionalToppings\": [\"tomato\"]}, {\"pizzaName\": \"Salsiccia & Patate\", \"additionalToppings\": [\"pineapple\"]}, {\"pizzaName\": \"Capricciosa\", \"additionalToppings\": [\"banana\", \"olives\"]}, {\"pizzaName\": \"Diavola\", \"additionalToppings\": []}, {\"pizzaName\": \"Mari & Monti\", \"additionalToppings\": [\"green peppers\", \"mozzarella\", \"ham\", \"tomato\", \"anchovies\"]}], \"units\": 6, \"totalAmount\": 186.78, \"customerEmail\": \"romanrodrigo@flor-lorenzo.com\", \"docID\": \"83787226C\", \"licensePlate\": \"2183 YSY\"}' \n",
      "dev.vm-dev-tfm-uoc.crm-topic:2:210: key=b'{\"shop\": \"Pizzeria Mammmma Mia!\"}' val=b'{\"id\": 38, \"shop\": \"Pizzeria Mammmma Mia!\", \"created_at\": \"08:34:23 PM\", \"name\": \"Isaac Cornejo C\\\\u00e1rdenas\", \"phoneNumber\": \"+34663 16 36 07\", \"address\": \"Callej\\\\u00f3n Vito Cuenca 3\\\\nMurcia, 30393\", \"pizzas\": [{\"pizzaName\": \"Diavola\", \"additionalToppings\": [\"ham\", \"ham\", \"ham\", \"mozzarella\"]}], \"units\": 1, \"totalAmount\": 28.31, \"customerEmail\": \"atienzamaxi@castejon.com\", \"docID\": \"41118500C\", \"licensePlate\": \"7223 PKK\"}' \n",
      "dev.vm-dev-tfm-uoc.crm-topic:2:211: key=b'{\"shop\": \"Circular Pi Pizzeria\"}' val=b'{\"id\": 39, \"shop\": \"Circular Pi Pizzeria\", \"created_at\": \"08:34:35 PM\", \"name\": \"Julieta de Manzano\", \"phoneNumber\": \"+34 742777147\", \"address\": \"Pasaje Calixto Soriano 8\\\\nZaragoza, 04275\", \"pizzas\": [{\"pizzaName\": \"Hawaiiana\", \"additionalToppings\": [\"onion\", \"anchovies\", \"onion\"]}], \"units\": 1, \"totalAmount\": 13.3, \"customerEmail\": \"kvalderrama@gmail.com\", \"docID\": \"Y6494258S\", \"licensePlate\": \"6062 NFT\"}' \n",
      "dev.vm-dev-tfm-uoc.crm-topic:1:205: key=b'{\"shop\": \"Piccolo Chef\"}' val=b'{\"id\": 40, \"shop\": \"Piccolo Chef\", \"created_at\": \"08:34:42 PM\", \"name\": \"Flavio Arnau Porras\", \"phoneNumber\": \"+34 899209825\", \"address\": \"Paseo de Salvador Cal 812 Apt. 18 \\\\nLa Coru\\\\u00f1a, 14206\", \"pizzas\": [{\"pizzaName\": \"Salami\", \"additionalToppings\": []}, {\"pizzaName\": \"Marinara\", \"additionalToppings\": [\"garlic\", \"garlic\", \"pineapple\", \"olives\", \"artichokes\"]}, {\"pizzaName\": \"Diavola\", \"additionalToppings\": []}, {\"pizzaName\": \"Mari & Monti\", \"additionalToppings\": []}, {\"pizzaName\": \"Salsiccia & Patate\", \"additionalToppings\": [\"green peppers\", \"olives\", \"mozzarella\", \"artichokes\", \"artichokes\"]}, {\"pizzaName\": \"Salami\", \"additionalToppings\": []}], \"units\": 6, \"totalAmount\": 138.72, \"customerEmail\": \"vicenta28@sanchez.com\", \"docID\": \"X2574816N\", \"licensePlate\": \"3034 NHX\"}' \n",
      "dev.vm-dev-tfm-uoc.crm-topic:0:496: key=b'{\"shop\": \"Marios Pizza\"}' val=b'{\"id\": 41, \"shop\": \"Marios Pizza\", \"created_at\": \"08:34:55 PM\", \"name\": \"Xiomara Mayoral Nu\\\\u00f1ez\", \"phoneNumber\": \"+34 700344313\", \"address\": \"Acceso de Lupe Bru 545 Piso 4 \\\\nC\\\\u00e1diz, 51640\", \"pizzas\": [{\"pizzaName\": \"Prosciutto & Rucula\", \"additionalToppings\": []}, {\"pizzaName\": \"Diavola\", \"additionalToppings\": [\"onion\", \"anchovies\"]}, {\"pizzaName\": \"Hawaiiana\", \"additionalToppings\": [\"olives\"]}, {\"pizzaName\": \"Prosciutto & Rucula\", \"additionalToppings\": [\"green peppers\", \"artichokes\", \"green peppers\", \"banana\"]}], \"units\": 4, \"totalAmount\": 154.56, \"customerEmail\": \"echeverrialuna@hotmail.com\", \"docID\": \"E76153063\", \"licensePlate\": \"9007 GZN\"}' \n",
      "dev.vm-dev-tfm-uoc.crm-topic:0:497: key=b'{\"shop\": \"Mammamia Pizza\"}' val=b'{\"id\": 42, \"shop\": \"Mammamia Pizza\", \"created_at\": \"08:35:11 PM\", \"name\": \"Leonardo Carbonell Feliu\", \"phoneNumber\": \"+34 741 080 299\", \"address\": \"Calle Eugenia Bas 43 Piso 6 \\\\nBadajoz, 30478\", \"pizzas\": [{\"pizzaName\": \"Capricciosa\", \"additionalToppings\": [\"anchovies\"]}, {\"pizzaName\": \"Marinara\", \"additionalToppings\": [\"onion\", \"olives\", \"olives\"]}, {\"pizzaName\": \"Hawaiiana\", \"additionalToppings\": [\"anchovies\", \"banana\", \"strawberry\"]}, {\"pizzaName\": \"Prosciutto & Rucula\", \"additionalToppings\": [\"banana\", \"tuna\"]}, {\"pizzaName\": \"Salsiccia & Patate\", \"additionalToppings\": [\"ham\", \"tuna\", \"olives\", \"banana\"]}, {\"pizzaName\": \"Hawaiiana\", \"additionalToppings\": [\"olives\", \"tomato\", \"pineapple\"]}, {\"pizzaName\": \"Salsiccia & Patate\", \"additionalToppings\": [\"blue cheese\", \"olives\", \"banana\", \"tuna\"]}], \"units\": 7, \"totalAmount\": 219.73000000000002, \"customerEmail\": \"zfarre@estevez.com\", \"docID\": \"94482504E\", \"licensePlate\": \"6785 KBX\"}' \n"
     ]
    },
    {
     "ename": "KeyboardInterrupt",
     "evalue": "",
     "output_type": "error",
     "traceback": [
      "\u001b[0;31m---------------------------------------------------------------------------\u001b[0m",
      "\u001b[0;31mKeyboardInterrupt\u001b[0m                         Traceback (most recent call last)",
      "\u001b[0;32m<ipython-input-8-e11ffff0563c>\u001b[0m in \u001b[0;36m<module>\u001b[0;34m\u001b[0m\n\u001b[1;32m      9\u001b[0m consumer = KafkaConsumer(topic,\n\u001b[1;32m     10\u001b[0m                          bootstrap_servers=['broker:29092'])\n\u001b[0;32m---> 11\u001b[0;31m \u001b[0;32mfor\u001b[0m \u001b[0mmessage\u001b[0m \u001b[0;32min\u001b[0m \u001b[0mconsumer\u001b[0m\u001b[0;34m:\u001b[0m\u001b[0;34m\u001b[0m\u001b[0;34m\u001b[0m\u001b[0m\n\u001b[0m\u001b[1;32m     12\u001b[0m     \u001b[0;31m# message value and key are raw bytes -- decode if necessary!\u001b[0m\u001b[0;34m\u001b[0m\u001b[0;34m\u001b[0m\u001b[0;34m\u001b[0m\u001b[0m\n\u001b[1;32m     13\u001b[0m     \u001b[0;31m# e.g., for unicode: `message.value.decode('utf-8')`\u001b[0m\u001b[0;34m\u001b[0m\u001b[0;34m\u001b[0m\u001b[0;34m\u001b[0m\u001b[0m\n",
      "\u001b[0;32m/usr/local/lib/python3.7/dist-packages/kafka/consumer/group.py\u001b[0m in \u001b[0;36m__next__\u001b[0;34m(self)\u001b[0m\n\u001b[1;32m   1179\u001b[0m             \u001b[0;32mreturn\u001b[0m \u001b[0mself\u001b[0m\u001b[0;34m.\u001b[0m\u001b[0mnext_v1\u001b[0m\u001b[0;34m(\u001b[0m\u001b[0;34m)\u001b[0m\u001b[0;34m\u001b[0m\u001b[0;34m\u001b[0m\u001b[0m\n\u001b[1;32m   1180\u001b[0m         \u001b[0;32melse\u001b[0m\u001b[0;34m:\u001b[0m\u001b[0;34m\u001b[0m\u001b[0;34m\u001b[0m\u001b[0m\n\u001b[0;32m-> 1181\u001b[0;31m             \u001b[0;32mreturn\u001b[0m \u001b[0mself\u001b[0m\u001b[0;34m.\u001b[0m\u001b[0mnext_v2\u001b[0m\u001b[0;34m(\u001b[0m\u001b[0;34m)\u001b[0m\u001b[0;34m\u001b[0m\u001b[0;34m\u001b[0m\u001b[0m\n\u001b[0m\u001b[1;32m   1182\u001b[0m \u001b[0;34m\u001b[0m\u001b[0m\n\u001b[1;32m   1183\u001b[0m     \u001b[0;32mdef\u001b[0m \u001b[0mnext_v2\u001b[0m\u001b[0;34m(\u001b[0m\u001b[0mself\u001b[0m\u001b[0;34m)\u001b[0m\u001b[0;34m:\u001b[0m\u001b[0;34m\u001b[0m\u001b[0;34m\u001b[0m\u001b[0m\n",
      "\u001b[0;32m/usr/local/lib/python3.7/dist-packages/kafka/consumer/group.py\u001b[0m in \u001b[0;36mnext_v2\u001b[0;34m(self)\u001b[0m\n\u001b[1;32m   1187\u001b[0m                 \u001b[0mself\u001b[0m\u001b[0;34m.\u001b[0m\u001b[0m_iterator\u001b[0m \u001b[0;34m=\u001b[0m \u001b[0mself\u001b[0m\u001b[0;34m.\u001b[0m\u001b[0m_message_generator_v2\u001b[0m\u001b[0;34m(\u001b[0m\u001b[0;34m)\u001b[0m\u001b[0;34m\u001b[0m\u001b[0;34m\u001b[0m\u001b[0m\n\u001b[1;32m   1188\u001b[0m             \u001b[0;32mtry\u001b[0m\u001b[0;34m:\u001b[0m\u001b[0;34m\u001b[0m\u001b[0;34m\u001b[0m\u001b[0m\n\u001b[0;32m-> 1189\u001b[0;31m                 \u001b[0;32mreturn\u001b[0m \u001b[0mnext\u001b[0m\u001b[0;34m(\u001b[0m\u001b[0mself\u001b[0m\u001b[0;34m.\u001b[0m\u001b[0m_iterator\u001b[0m\u001b[0;34m)\u001b[0m\u001b[0;34m\u001b[0m\u001b[0;34m\u001b[0m\u001b[0m\n\u001b[0m\u001b[1;32m   1190\u001b[0m             \u001b[0;32mexcept\u001b[0m \u001b[0mStopIteration\u001b[0m\u001b[0;34m:\u001b[0m\u001b[0;34m\u001b[0m\u001b[0;34m\u001b[0m\u001b[0m\n\u001b[1;32m   1191\u001b[0m                 \u001b[0mself\u001b[0m\u001b[0;34m.\u001b[0m\u001b[0m_iterator\u001b[0m \u001b[0;34m=\u001b[0m \u001b[0;32mNone\u001b[0m\u001b[0;34m\u001b[0m\u001b[0;34m\u001b[0m\u001b[0m\n",
      "\u001b[0;32m/usr/local/lib/python3.7/dist-packages/kafka/consumer/group.py\u001b[0m in \u001b[0;36m_message_generator_v2\u001b[0;34m(self)\u001b[0m\n\u001b[1;32m   1104\u001b[0m     \u001b[0;32mdef\u001b[0m \u001b[0m_message_generator_v2\u001b[0m\u001b[0;34m(\u001b[0m\u001b[0mself\u001b[0m\u001b[0;34m)\u001b[0m\u001b[0;34m:\u001b[0m\u001b[0;34m\u001b[0m\u001b[0;34m\u001b[0m\u001b[0m\n\u001b[1;32m   1105\u001b[0m         \u001b[0mtimeout_ms\u001b[0m \u001b[0;34m=\u001b[0m \u001b[0;36m1000\u001b[0m \u001b[0;34m*\u001b[0m \u001b[0;34m(\u001b[0m\u001b[0mself\u001b[0m\u001b[0;34m.\u001b[0m\u001b[0m_consumer_timeout\u001b[0m \u001b[0;34m-\u001b[0m \u001b[0mtime\u001b[0m\u001b[0;34m.\u001b[0m\u001b[0mtime\u001b[0m\u001b[0;34m(\u001b[0m\u001b[0;34m)\u001b[0m\u001b[0;34m)\u001b[0m\u001b[0;34m\u001b[0m\u001b[0;34m\u001b[0m\u001b[0m\n\u001b[0;32m-> 1106\u001b[0;31m         \u001b[0mrecord_map\u001b[0m \u001b[0;34m=\u001b[0m \u001b[0mself\u001b[0m\u001b[0;34m.\u001b[0m\u001b[0mpoll\u001b[0m\u001b[0;34m(\u001b[0m\u001b[0mtimeout_ms\u001b[0m\u001b[0;34m=\u001b[0m\u001b[0mtimeout_ms\u001b[0m\u001b[0;34m,\u001b[0m \u001b[0mupdate_offsets\u001b[0m\u001b[0;34m=\u001b[0m\u001b[0;32mFalse\u001b[0m\u001b[0;34m)\u001b[0m\u001b[0;34m\u001b[0m\u001b[0;34m\u001b[0m\u001b[0m\n\u001b[0m\u001b[1;32m   1107\u001b[0m         \u001b[0;32mfor\u001b[0m \u001b[0mtp\u001b[0m\u001b[0;34m,\u001b[0m \u001b[0mrecords\u001b[0m \u001b[0;32min\u001b[0m \u001b[0msix\u001b[0m\u001b[0;34m.\u001b[0m\u001b[0miteritems\u001b[0m\u001b[0;34m(\u001b[0m\u001b[0mrecord_map\u001b[0m\u001b[0;34m)\u001b[0m\u001b[0;34m:\u001b[0m\u001b[0;34m\u001b[0m\u001b[0;34m\u001b[0m\u001b[0m\n\u001b[1;32m   1108\u001b[0m             \u001b[0;31m# Generators are stateful, and it is possible that the tp / records\u001b[0m\u001b[0;34m\u001b[0m\u001b[0;34m\u001b[0m\u001b[0;34m\u001b[0m\u001b[0m\n",
      "\u001b[0;32m/usr/local/lib/python3.7/dist-packages/kafka/consumer/group.py\u001b[0m in \u001b[0;36mpoll\u001b[0;34m(self, timeout_ms, max_records, update_offsets)\u001b[0m\n\u001b[1;32m    643\u001b[0m         \u001b[0mremaining\u001b[0m \u001b[0;34m=\u001b[0m \u001b[0mtimeout_ms\u001b[0m\u001b[0;34m\u001b[0m\u001b[0;34m\u001b[0m\u001b[0m\n\u001b[1;32m    644\u001b[0m         \u001b[0;32mwhile\u001b[0m \u001b[0;32mTrue\u001b[0m\u001b[0;34m:\u001b[0m\u001b[0;34m\u001b[0m\u001b[0;34m\u001b[0m\u001b[0m\n\u001b[0;32m--> 645\u001b[0;31m             \u001b[0mrecords\u001b[0m \u001b[0;34m=\u001b[0m \u001b[0mself\u001b[0m\u001b[0;34m.\u001b[0m\u001b[0m_poll_once\u001b[0m\u001b[0;34m(\u001b[0m\u001b[0mremaining\u001b[0m\u001b[0;34m,\u001b[0m \u001b[0mmax_records\u001b[0m\u001b[0;34m,\u001b[0m \u001b[0mupdate_offsets\u001b[0m\u001b[0;34m=\u001b[0m\u001b[0mupdate_offsets\u001b[0m\u001b[0;34m)\u001b[0m\u001b[0;34m\u001b[0m\u001b[0;34m\u001b[0m\u001b[0m\n\u001b[0m\u001b[1;32m    646\u001b[0m             \u001b[0;32mif\u001b[0m \u001b[0mrecords\u001b[0m\u001b[0;34m:\u001b[0m\u001b[0;34m\u001b[0m\u001b[0;34m\u001b[0m\u001b[0m\n\u001b[1;32m    647\u001b[0m                 \u001b[0;32mreturn\u001b[0m \u001b[0mrecords\u001b[0m\u001b[0;34m\u001b[0m\u001b[0;34m\u001b[0m\u001b[0m\n",
      "\u001b[0;32m/usr/local/lib/python3.7/dist-packages/kafka/consumer/group.py\u001b[0m in \u001b[0;36m_poll_once\u001b[0;34m(self, timeout_ms, max_records, update_offsets)\u001b[0m\n\u001b[1;32m    690\u001b[0m \u001b[0;34m\u001b[0m\u001b[0m\n\u001b[1;32m    691\u001b[0m         \u001b[0mtimeout_ms\u001b[0m \u001b[0;34m=\u001b[0m \u001b[0mmin\u001b[0m\u001b[0;34m(\u001b[0m\u001b[0mtimeout_ms\u001b[0m\u001b[0;34m,\u001b[0m \u001b[0mself\u001b[0m\u001b[0;34m.\u001b[0m\u001b[0m_coordinator\u001b[0m\u001b[0;34m.\u001b[0m\u001b[0mtime_to_next_poll\u001b[0m\u001b[0;34m(\u001b[0m\u001b[0;34m)\u001b[0m \u001b[0;34m*\u001b[0m \u001b[0;36m1000\u001b[0m\u001b[0;34m)\u001b[0m\u001b[0;34m\u001b[0m\u001b[0;34m\u001b[0m\u001b[0m\n\u001b[0;32m--> 692\u001b[0;31m         \u001b[0mself\u001b[0m\u001b[0;34m.\u001b[0m\u001b[0m_client\u001b[0m\u001b[0;34m.\u001b[0m\u001b[0mpoll\u001b[0m\u001b[0;34m(\u001b[0m\u001b[0mtimeout_ms\u001b[0m\u001b[0;34m=\u001b[0m\u001b[0mtimeout_ms\u001b[0m\u001b[0;34m)\u001b[0m\u001b[0;34m\u001b[0m\u001b[0;34m\u001b[0m\u001b[0m\n\u001b[0m\u001b[1;32m    693\u001b[0m         \u001b[0;31m# after the long poll, we should check whether the group needs to rebalance\u001b[0m\u001b[0;34m\u001b[0m\u001b[0;34m\u001b[0m\u001b[0;34m\u001b[0m\u001b[0m\n\u001b[1;32m    694\u001b[0m         \u001b[0;31m# prior to returning data so that the group can stabilize faster\u001b[0m\u001b[0;34m\u001b[0m\u001b[0;34m\u001b[0m\u001b[0;34m\u001b[0m\u001b[0m\n",
      "\u001b[0;32m/usr/local/lib/python3.7/dist-packages/kafka/client_async.py\u001b[0m in \u001b[0;36mpoll\u001b[0;34m(self, timeout_ms, future)\u001b[0m\n\u001b[1;32m    596\u001b[0m                     \u001b[0mtimeout\u001b[0m \u001b[0;34m=\u001b[0m \u001b[0mmax\u001b[0m\u001b[0;34m(\u001b[0m\u001b[0;36m0\u001b[0m\u001b[0;34m,\u001b[0m \u001b[0mtimeout\u001b[0m\u001b[0;34m)\u001b[0m  \u001b[0;31m# avoid negative timeouts\u001b[0m\u001b[0;34m\u001b[0m\u001b[0;34m\u001b[0m\u001b[0m\n\u001b[1;32m    597\u001b[0m \u001b[0;34m\u001b[0m\u001b[0m\n\u001b[0;32m--> 598\u001b[0;31m                 \u001b[0mself\u001b[0m\u001b[0;34m.\u001b[0m\u001b[0m_poll\u001b[0m\u001b[0;34m(\u001b[0m\u001b[0mtimeout\u001b[0m \u001b[0;34m/\u001b[0m \u001b[0;36m1000\u001b[0m\u001b[0;34m)\u001b[0m\u001b[0;34m\u001b[0m\u001b[0;34m\u001b[0m\u001b[0m\n\u001b[0m\u001b[1;32m    599\u001b[0m \u001b[0;34m\u001b[0m\u001b[0m\n\u001b[1;32m    600\u001b[0m             \u001b[0;31m# called without the lock to avoid deadlock potential\u001b[0m\u001b[0;34m\u001b[0m\u001b[0;34m\u001b[0m\u001b[0;34m\u001b[0m\u001b[0m\n",
      "\u001b[0;32m/usr/local/lib/python3.7/dist-packages/kafka/client_async.py\u001b[0m in \u001b[0;36m_poll\u001b[0;34m(self, timeout)\u001b[0m\n\u001b[1;32m    628\u001b[0m \u001b[0;34m\u001b[0m\u001b[0m\n\u001b[1;32m    629\u001b[0m         \u001b[0mstart_select\u001b[0m \u001b[0;34m=\u001b[0m \u001b[0mtime\u001b[0m\u001b[0;34m.\u001b[0m\u001b[0mtime\u001b[0m\u001b[0;34m(\u001b[0m\u001b[0;34m)\u001b[0m\u001b[0;34m\u001b[0m\u001b[0;34m\u001b[0m\u001b[0m\n\u001b[0;32m--> 630\u001b[0;31m         \u001b[0mready\u001b[0m \u001b[0;34m=\u001b[0m \u001b[0mself\u001b[0m\u001b[0;34m.\u001b[0m\u001b[0m_selector\u001b[0m\u001b[0;34m.\u001b[0m\u001b[0mselect\u001b[0m\u001b[0;34m(\u001b[0m\u001b[0mtimeout\u001b[0m\u001b[0;34m)\u001b[0m\u001b[0;34m\u001b[0m\u001b[0;34m\u001b[0m\u001b[0m\n\u001b[0m\u001b[1;32m    631\u001b[0m         \u001b[0mend_select\u001b[0m \u001b[0;34m=\u001b[0m \u001b[0mtime\u001b[0m\u001b[0;34m.\u001b[0m\u001b[0mtime\u001b[0m\u001b[0;34m(\u001b[0m\u001b[0;34m)\u001b[0m\u001b[0;34m\u001b[0m\u001b[0;34m\u001b[0m\u001b[0m\n\u001b[1;32m    632\u001b[0m         \u001b[0;32mif\u001b[0m \u001b[0mself\u001b[0m\u001b[0;34m.\u001b[0m\u001b[0m_sensors\u001b[0m\u001b[0;34m:\u001b[0m\u001b[0;34m\u001b[0m\u001b[0;34m\u001b[0m\u001b[0m\n",
      "\u001b[0;32m/usr/lib/python3.7/selectors.py\u001b[0m in \u001b[0;36mselect\u001b[0;34m(self, timeout)\u001b[0m\n\u001b[1;32m    466\u001b[0m             \u001b[0mready\u001b[0m \u001b[0;34m=\u001b[0m \u001b[0;34m[\u001b[0m\u001b[0;34m]\u001b[0m\u001b[0;34m\u001b[0m\u001b[0;34m\u001b[0m\u001b[0m\n\u001b[1;32m    467\u001b[0m             \u001b[0;32mtry\u001b[0m\u001b[0;34m:\u001b[0m\u001b[0;34m\u001b[0m\u001b[0;34m\u001b[0m\u001b[0m\n\u001b[0;32m--> 468\u001b[0;31m                 \u001b[0mfd_event_list\u001b[0m \u001b[0;34m=\u001b[0m \u001b[0mself\u001b[0m\u001b[0;34m.\u001b[0m\u001b[0m_selector\u001b[0m\u001b[0;34m.\u001b[0m\u001b[0mpoll\u001b[0m\u001b[0;34m(\u001b[0m\u001b[0mtimeout\u001b[0m\u001b[0;34m,\u001b[0m \u001b[0mmax_ev\u001b[0m\u001b[0;34m)\u001b[0m\u001b[0;34m\u001b[0m\u001b[0;34m\u001b[0m\u001b[0m\n\u001b[0m\u001b[1;32m    469\u001b[0m             \u001b[0;32mexcept\u001b[0m \u001b[0mInterruptedError\u001b[0m\u001b[0;34m:\u001b[0m\u001b[0;34m\u001b[0m\u001b[0;34m\u001b[0m\u001b[0m\n\u001b[1;32m    470\u001b[0m                 \u001b[0;32mreturn\u001b[0m \u001b[0mready\u001b[0m\u001b[0;34m\u001b[0m\u001b[0;34m\u001b[0m\u001b[0m\n",
      "\u001b[0;31mKeyboardInterrupt\u001b[0m: "
     ]
    }
   ],
   "source": [
    "\"\"\" Read test data from Kafka to ensure producer and broker are working \"\"\"\n",
    "import json\n",
    "from kafka import KafkaConsumer\n",
    "\n",
    "\n",
    "topic = 'dev.vm-dev-tfm-uoc.crm-topic'\n",
    "\n",
    "# To consume latest messages and auto-commit offsets\n",
    "consumer = KafkaConsumer(topic,\n",
    "                         bootstrap_servers=['broker:29092'])\n",
    "\n",
    "data = []\n",
    "for message in consumer:\n",
    "    # message value and key are raw bytes -- decode if necessary!\n",
    "    # e.g., for unicode: `message.value.decode('utf-8')`\n",
    "    data.append(message)\n",
    "    print (\"%s:%d:%d: key=%s val=%s \" % (message.topic, message.partition,\n",
    "                                         message.offset, message.key, message.value))\n",
    "\n",
    "# consume earliest available messages, don't commit offsets\n",
    "KafkaConsumer(auto_offset_reset='smallest', enable_auto_commit=False)\n",
    "\n",
    "# consume json messages\n",
    "KafkaConsumer(value_deserializer=lambda m: json.loads(m.decode('ascii')))\n",
    "\n",
    "\n",
    "# StopIteration if no message after 1sec\n",
    "KafkaConsumer(consumer_timeout_ms=1000)"
   ]
  },
  {
   "cell_type": "code",
   "execution_count": null,
   "id": "a94e34d4-230b-4366-833e-8c0218668743",
   "metadata": {},
   "outputs": [],
   "source": [
    "\n",
    "# df1 = df.selectExpr( \"CAST(value AS STRING)\")\n",
    "\n",
    "# df1.registerTempTable(\"test\")\n",
    "\n",
    "\n",
    "# # Deserilzing the Avro code function\n",
    "\n",
    "# from pyspark.sql.column import Column, _to_java_column \n",
    "# def from_avro(col): \n",
    "#      jsonFormatSchema = \"\"\"\n",
    "#                     {\n",
    "#                      \"type\": \"record\",\n",
    "#                      \"name\": \"struct\",\n",
    "#                      \"fields\": [\n",
    "#                        {\"name\": \"col1\", \"type\": \"long\"},\n",
    "#                        {\"name\": \"col2\", \"type\": \"string\"}\n",
    "#                                 ]\n",
    "#                      }\"\"\"\n",
    "#     sc = SparkContext._active_spark_context \n",
    "#     avro = sc._jvm.org.apache.spark.sql.avro\n",
    "#     f = getattr(getattr(avro, \"package$\"), \"MODULE$\").from_avro\n",
    "#     return Column(f(_to_java_column(col), jsonFormatSchema))\n",
    "\n",
    "\n",
    "# spark.udf.register(\"JsonformatterWithPython\", from_avro)\n",
    "\n",
    "# squared_udf = udf(from_avro)\n",
    "# df1 = spark.table(\"test\")\n",
    "# df2 = df1.select(squared_udf(\"value\"))\n",
    "\n",
    "# #  Declaring the Readstream Schema DataFrame :\n",
    "\n",
    "# df2.coalesce(1).writeStream \\\n",
    "#    .format(\"parquet\") \\\n",
    "#    .option(\"checkpointLocation\",\"/path/chk31\") \\\n",
    "#    .outputMode(\"append\") \\\n",
    "#    .start(\"/path/stream/tgt31\")\n",
    "\n",
    "\n",
    "# ssc.awaitTermination()"
   ]
  },
  {
   "cell_type": "code",
   "execution_count": 10,
   "id": "3065b69a-4f17-4348-9092-f06ec17cfc21",
   "metadata": {},
   "outputs": [
    {
     "data": {
      "text/plain": [
       "{'kafka-metrics-count': {'count': 63.0},\n",
       " 'consumer-metrics': {'connection-close-rate': 0.0,\n",
       "  'connection-creation-rate': 0.0,\n",
       "  'select-rate': 2.584675217846816,\n",
       "  'io-wait-time-ns-avg': 245340508.71928534,\n",
       "  'io-wait-ratio': 0.6341251993636998,\n",
       "  'io-time-ns-avg': 247262.41827011108,\n",
       "  'io-ratio': 0.0006390987286306676,\n",
       "  'connection-count': 1.0,\n",
       "  'network-io-rate': 2.58468274422033,\n",
       "  'outgoing-byte-rate': 195.1476006530151,\n",
       "  'request-rate': 1.2923679019244423,\n",
       "  'request-size-avg': 151.0,\n",
       "  'request-size-max': 151.0,\n",
       "  'incoming-byte-rate': 267.9451679672966,\n",
       "  'response-rate': 1.2923397665943988,\n",
       "  'request-latency-avg': 491.2629872560501,\n",
       "  'request-latency-max': 501.6303062438965},\n",
       " 'consumer-node-metrics.node-bootstrap-0': {'outgoing-byte-rate': 0.0,\n",
       "  'request-rate': 0.0,\n",
       "  'request-size-avg': 0.0,\n",
       "  'request-size-max': -inf,\n",
       "  'incoming-byte-rate': 0.0,\n",
       "  'response-rate': 0.0,\n",
       "  'request-latency-avg': 0.0,\n",
       "  'request-latency-max': -inf},\n",
       " 'consumer-fetch-manager-metrics': {'fetch-size-avg': 9.53191489361702,\n",
       "  'fetch-size-max': 1039.0,\n",
       "  'bytes-consumed-rate': 48.9070351410574,\n",
       "  'records-per-request-avg': 0.010638297872340425,\n",
       "  'records-consumed-rate': 0.0545837547605203,\n",
       "  'fetch-latency-avg': 491.1837070546252,\n",
       "  'fetch-latency-max': 501.7681121826172,\n",
       "  'fetch-rate': 1.2827370059711451,\n",
       "  'records-lag-max': 1.0,\n",
       "  'fetch-throttle-time-avg': 0.0,\n",
       "  'fetch-throttle-time-max': 0.0},\n",
       " 'consumer-coordinator-metrics': {'heartbeat-response-time-max': -inf,\n",
       "  'heartbeat-rate': 0.0,\n",
       "  'join-time-avg': 0.0,\n",
       "  'join-time-max': -inf,\n",
       "  'join-rate': 0.0,\n",
       "  'sync-time-avg': 0.0,\n",
       "  'sync-time-max': -inf,\n",
       "  'sync-rate': 0.0,\n",
       "  'last-heartbeat-seconds-ago': inf,\n",
       "  'commit-latency-avg': 0.0,\n",
       "  'commit-latency-max': -inf,\n",
       "  'commit-rate': 0.0,\n",
       "  'assigned-partitions': 4.0},\n",
       " 'consumer-node-metrics.node-1': {'outgoing-byte-rate': 193.69351504893638,\n",
       "  'request-rate': 1.2827381341858481,\n",
       "  'request-size-avg': 151.0,\n",
       "  'request-size-max': 151.0,\n",
       "  'incoming-byte-rate': 266.96663818525695,\n",
       "  'response-rate': 1.2827059295645515,\n",
       "  'request-latency-avg': 491.0633614722719,\n",
       "  'request-latency-max': 501.6303062438965}}"
      ]
     },
     "execution_count": 10,
     "metadata": {},
     "output_type": "execute_result"
    }
   ],
   "source": [
    "consumer.metrics()"
   ]
  },
  {
   "cell_type": "code",
   "execution_count": 12,
   "id": "85c023d4-d650-44ed-ae97-4095f96df26a",
   "metadata": {},
   "outputs": [
    {
     "data": {
      "text/plain": [
       "{0, 1, 2, 3}"
      ]
     },
     "execution_count": 12,
     "metadata": {},
     "output_type": "execute_result"
    }
   ],
   "source": [
    "consumer.partitions_for_topic(topic)"
   ]
  },
  {
   "cell_type": "code",
   "execution_count": null,
   "id": "7adaf3bc-0d57-4f06-850f-7c724b433ae4",
   "metadata": {},
   "outputs": [],
   "source": []
  }
 ],
 "metadata": {
  "kernelspec": {
   "display_name": "Python 3",
   "language": "python",
   "name": "python3"
  },
  "language_info": {
   "codemirror_mode": {
    "name": "ipython",
    "version": 3
   },
   "file_extension": ".py",
   "mimetype": "text/x-python",
   "name": "python",
   "nbconvert_exporter": "python",
   "pygments_lexer": "ipython3",
   "version": "3.7.3"
  }
 },
 "nbformat": 4,
 "nbformat_minor": 5
}
