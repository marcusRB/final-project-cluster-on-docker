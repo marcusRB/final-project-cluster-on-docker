{
 "cells": [
  {
   "cell_type": "code",
   "execution_count": 13,
   "id": "32f57c41-67ae-41f2-aa85-e55c9a819a6a",
   "metadata": {},
   "outputs": [],
   "source": [
    "from kafka import KafkaProducer\n",
    "producer = KafkaProducer(bootstrap_servers='broker:29092')\n",
    "topic = 'dev.vm-dev-tfm-uoc.test-topic'\n",
    "for _ in range(100):\n",
    "    producer.send(topic, b'some_message_bytes')"
   ]
  }
 ],
 "metadata": {
  "kernelspec": {
   "display_name": "Python 3",
   "language": "python",
   "name": "python3"
  },
  "language_info": {
   "codemirror_mode": {
    "name": "ipython",
    "version": 3
   },
   "file_extension": ".py",
   "mimetype": "text/x-python",
   "name": "python",
   "nbconvert_exporter": "python",
   "pygments_lexer": "ipython3",
   "version": "3.7.3"
  }
 },
 "nbformat": 4,
 "nbformat_minor": 5
}
