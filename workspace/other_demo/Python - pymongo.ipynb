{
 "cells": [
  {
   "cell_type": "code",
   "execution_count": null,
   "id": "b6dfc836-a9e3-4517-8865-5babeef09ca3",
   "metadata": {},
   "outputs": [],
   "source": [
    "# !pip3 install pymongo -q"
   ]
  },
  {
   "cell_type": "code",
   "execution_count": 1,
   "id": "2f5fd3ca-c42a-4d5d-b7f8-8658f622ef66",
   "metadata": {},
   "outputs": [],
   "source": [
    "from pymongo import MongoClient"
   ]
  },
  {
   "cell_type": "code",
   "execution_count": 2,
   "id": "af032b63-2550-4a9a-91d4-491f679d3d08",
   "metadata": {},
   "outputs": [],
   "source": [
    "client = MongoClient('mongo1:27017')"
   ]
  },
  {
   "cell_type": "code",
   "execution_count": 3,
   "id": "3883bf09-b723-4e8d-9b6e-b67da38730cc",
   "metadata": {},
   "outputs": [
    {
     "data": {
      "text/plain": [
       "MongoClient(host=['mongo1:27017'], document_class=dict, tz_aware=False, connect=True)"
      ]
     },
     "execution_count": 3,
     "metadata": {},
     "output_type": "execute_result"
    }
   ],
   "source": [
    "client"
   ]
  },
  {
   "cell_type": "code",
   "execution_count": 4,
   "id": "e70e541e-aa26-4c29-b180-6d1476d5ed8d",
   "metadata": {},
   "outputs": [],
   "source": [
    "db = client['Stocks']"
   ]
  },
  {
   "cell_type": "code",
   "execution_count": 5,
   "id": "31afb544-885d-4fcd-8fbc-3a3495b52fb5",
   "metadata": {},
   "outputs": [
    {
     "data": {
      "text/plain": [
       "Database(MongoClient(host=['mongo1:27017'], document_class=dict, tz_aware=False, connect=True), 'Stocks')"
      ]
     },
     "execution_count": 5,
     "metadata": {},
     "output_type": "execute_result"
    }
   ],
   "source": [
    "db"
   ]
  },
  {
   "cell_type": "code",
   "execution_count": 6,
   "id": "e20e6f97-f980-4290-8766-8d175a52e24f",
   "metadata": {},
   "outputs": [],
   "source": [
    "collection = db.Source"
   ]
  },
  {
   "cell_type": "code",
   "execution_count": 7,
   "id": "b4f35e88-4825-4531-8aec-2beee3b7245a",
   "metadata": {},
   "outputs": [
    {
     "data": {
      "text/plain": [
       "{'_id': ObjectId('5f527ac22f6a1552edb3cf44'),\n",
       " 'company_symbol': 'IAC',\n",
       " 'company_name': 'ITCHY ACRE CORPORATION',\n",
       " 'price': 43.38,\n",
       " 'tx_time': '2020-09-04T13:34:58Z'}"
      ]
     },
     "execution_count": 7,
     "metadata": {},
     "output_type": "execute_result"
    }
   ],
   "source": [
    "collection.find_one()"
   ]
  },
  {
   "cell_type": "code",
   "execution_count": 8,
   "id": "1de1ec58-806a-48b7-b70b-def93a162aa4",
   "metadata": {},
   "outputs": [],
   "source": [
    "import pprint"
   ]
  },
  {
   "cell_type": "code",
   "execution_count": 9,
   "id": "131a7a79-187a-4379-bd2f-9b7c9e00a136",
   "metadata": {},
   "outputs": [
    {
     "name": "stdout",
     "output_type": "stream",
     "text": [
      "{'_id': ObjectId('5f527ac22f6a1552edb3cf44'),\n",
      " 'company_name': 'ITCHY ACRE CORPORATION',\n",
      " 'company_symbol': 'IAC',\n",
      " 'price': 43.38,\n",
      " 'tx_time': '2020-09-04T13:34:58Z'}\n",
      "{'_id': ObjectId('5f527ac22f6a1552edb3cf46'),\n",
      " 'company_name': 'CREEPY GIT HOLDINGS',\n",
      " 'company_symbol': 'CGH',\n",
      " 'price': 81.99,\n",
      " 'tx_time': '2020-09-04T13:34:58Z'}\n",
      "{'_id': ObjectId('5f527ac22f6a1552edb3cf48'),\n",
      " 'company_name': 'LACKADAISICAL SAVAGE PARTNERS',\n",
      " 'company_symbol': 'LSP',\n",
      " 'price': 41.41,\n",
      " 'tx_time': '2020-09-04T13:34:58Z'}\n",
      "{'_id': ObjectId('5f527ac22f6a1552edb3cf4a'),\n",
      " 'company_name': 'COMBATIVE TOWNSHIP LLC',\n",
      " 'company_symbol': 'CTL',\n",
      " 'price': 71.21,\n",
      " 'tx_time': '2020-09-04T13:34:58Z'}\n",
      "{'_id': ObjectId('5f527ac22f6a1552edb3cf4b'),\n",
      " 'company_name': 'GREASY CHAMPION CORPORATION',\n",
      " 'company_symbol': 'GCC',\n",
      " 'price': 80.62,\n",
      " 'tx_time': '2020-09-04T13:34:58Z'}\n",
      "{'_id': ObjectId('5f527ac22f6a1552edb3cf4c'),\n",
      " 'company_name': 'TRITE JACKFRUIT PARTNERS',\n",
      " 'company_symbol': 'TJP',\n",
      " 'price': 21.3,\n",
      " 'tx_time': '2020-09-04T13:34:58Z'}\n",
      "{'_id': ObjectId('5f527ac22f6a1552edb3cf4d'),\n",
      " 'company_name': 'FROTHY MIDNIGHT PRODUCTIONS',\n",
      " 'company_symbol': 'FMP',\n",
      " 'price': 65.35,\n",
      " 'tx_time': '2020-09-04T13:34:58Z'}\n",
      "{'_id': ObjectId('5f527ac32f6a1552edb3cf4e'),\n",
      " 'company_name': 'ITCHY ACRE CORPORATION',\n",
      " 'company_symbol': 'IAC',\n",
      " 'price': 43.39,\n",
      " 'tx_time': '2020-09-04T13:34:59Z'}\n",
      "{'_id': ObjectId('5f527ac32f6a1552edb3cf4f'),\n",
      " 'company_name': 'HOMELY KIOSK UNLIMITED',\n",
      " 'company_symbol': 'HKU',\n",
      " 'price': 81.97,\n",
      " 'tx_time': '2020-09-04T13:34:59Z'}\n",
      "{'_id': ObjectId('5f527ac32f6a1552edb3cf50'),\n",
      " 'company_name': 'CREEPY GIT HOLDINGS',\n",
      " 'company_symbol': 'CGH',\n",
      " 'price': 81.96,\n",
      " 'tx_time': '2020-09-04T13:34:59Z'}\n"
     ]
    }
   ],
   "source": [
    "for docs in collection.find(limit=10):\n",
    "    pprint.pprint(docs)"
   ]
  },
  {
   "cell_type": "code",
   "execution_count": 10,
   "id": "f18645f4-f458-43c5-8c0a-9d281630973f",
   "metadata": {},
   "outputs": [
    {
     "data": {
      "text/plain": [
       "74262"
      ]
     },
     "execution_count": 10,
     "metadata": {},
     "output_type": "execute_result"
    }
   ],
   "source": [
    "collection.count_documents({})"
   ]
  },
  {
   "cell_type": "code",
   "execution_count": 11,
   "id": "37141427-fccf-4b9d-ac34-d010407ab125",
   "metadata": {},
   "outputs": [],
   "source": [
    "from bson.son import SON"
   ]
  },
  {
   "cell_type": "code",
   "execution_count": 28,
   "id": "ea05e9a7-bc7f-4843-bca2-b55a4494afcb",
   "metadata": {},
   "outputs": [],
   "source": [
    "pipeline = [\n",
    "    {\"$group\": {\"_id\": \"$company_name\", \n",
    "                \"avg_price\": {\"$avg\":\"$price\"} \n",
    "               }\n",
    "    }\n",
    "]"
   ]
  },
  {
   "cell_type": "code",
   "execution_count": 32,
   "id": "ef30fa67-324c-4835-abcd-0a61082c6c85",
   "metadata": {},
   "outputs": [
    {
     "name": "stdout",
     "output_type": "stream",
     "text": [
      "[{'_id': 'GREASY CHAMPION CORPORATION', 'avg_price': 79.61051171559386},\n",
      " {'_id': 'FRUSTRATING CHAOS LLC', 'avg_price': 83.9495663883652},\n",
      " {'_id': 'ITCHY ACRE CORPORATION', 'avg_price': 43.487752491246965},\n",
      " {'_id': 'LACKADAISICAL SAVAGE PARTNERS', 'avg_price': 41.2134917856181},\n",
      " {'_id': 'TRITE JACKFRUIT PARTNERS', 'avg_price': 21.57842466675643},\n",
      " {'_id': 'CREEPY GIT HOLDINGS', 'avg_price': 80.41387018583356},\n",
      " {'_id': 'HOMELY KIOSK UNLIMITED', 'avg_price': 83.29676945865877},\n",
      " {'_id': 'CORNY PRACTITIONER HOLDINGS', 'avg_price': 37.07275249124697},\n",
      " {'_id': 'COMBATIVE TOWNSHIP LLC', 'avg_price': 68.83227848101266},\n",
      " {'_id': 'FROTHY MIDNIGHT PRODUCTIONS', 'avg_price': 65.32067860508954}]\n"
     ]
    }
   ],
   "source": [
    "pprint.pprint(list(collection.aggregate(pipeline)))"
   ]
  },
  {
   "cell_type": "code",
   "execution_count": 47,
   "id": "80e6946f-c0f8-4273-912d-fdf279fdc310",
   "metadata": {},
   "outputs": [],
   "source": [
    "pipeline = [\n",
    "        {\"$group\": {\n",
    "             \"_id\": \"$company_name\", \n",
    "             \"count\": {\"$sum\": 1}\n",
    "        }},\n",
    "        {\"$limit\": 10}]"
   ]
  },
  {
   "cell_type": "code",
   "execution_count": 48,
   "id": "03067683-5cd5-4e5e-88bb-75bfd8e30614",
   "metadata": {},
   "outputs": [
    {
     "name": "stdout",
     "output_type": "stream",
     "text": [
      "[{'_id': 'TRITE JACKFRUIT PARTNERS', 'count': 7427},\n",
      " {'_id': 'HOMELY KIOSK UNLIMITED', 'count': 7426},\n",
      " {'_id': 'ITCHY ACRE CORPORATION', 'count': 7426},\n",
      " {'_id': 'LACKADAISICAL SAVAGE PARTNERS', 'count': 7426},\n",
      " {'_id': 'GREASY CHAMPION CORPORATION', 'count': 7426},\n",
      " {'_id': 'FRUSTRATING CHAOS LLC', 'count': 7426},\n",
      " {'_id': 'CORNY PRACTITIONER HOLDINGS', 'count': 7426},\n",
      " {'_id': 'FROTHY MIDNIGHT PRODUCTIONS', 'count': 7427},\n",
      " {'_id': 'COMBATIVE TOWNSHIP LLC', 'count': 7426},\n",
      " {'_id': 'CREEPY GIT HOLDINGS', 'count': 7426}]\n"
     ]
    }
   ],
   "source": [
    "pprint.pprint(list(collection.aggregate(pipeline)))"
   ]
  }
 ],
 "metadata": {
  "kernelspec": {
   "display_name": "Python 3",
   "language": "python",
   "name": "python3"
  },
  "language_info": {
   "codemirror_mode": {
    "name": "ipython",
    "version": 3
   },
   "file_extension": ".py",
   "mimetype": "text/x-python",
   "name": "python",
   "nbconvert_exporter": "python",
   "pygments_lexer": "ipython3",
   "version": "3.7.3"
  }
 },
 "nbformat": 4,
 "nbformat_minor": 5
}
