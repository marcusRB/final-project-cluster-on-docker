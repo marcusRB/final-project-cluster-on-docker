{
 "cells": [
  {
   "cell_type": "code",
   "execution_count": 12,
   "id": "78b4c73d-7da1-45a6-8b6b-d6f6fb88287b",
   "metadata": {},
   "outputs": [
    {
     "name": "stdout",
     "output_type": "stream",
     "text": [
      "Elasticnet model (alpha=1.000000, l1_ratio=0.500000):\n",
      "  RMSE: 0.8593526200510287\n",
      "  MAE: 0.6481010264813273\n",
      "  R2: 0.04618821720476163\n"
     ]
    }
   ],
   "source": [
    "%run train.py --alpha 1.0 --l1-ratio 0.5"
   ]
  },
  {
   "cell_type": "code",
   "execution_count": null,
   "id": "bbdd172d-ddee-41e8-97c9-9e5bf907b0cd",
   "metadata": {},
   "outputs": [],
   "source": []
  }
 ],
 "metadata": {
  "kernelspec": {
   "display_name": "Python 3",
   "language": "python",
   "name": "python3"
  },
  "language_info": {
   "codemirror_mode": {
    "name": "ipython",
    "version": 3
   },
   "file_extension": ".py",
   "mimetype": "text/x-python",
   "name": "python",
   "nbconvert_exporter": "python",
   "pygments_lexer": "ipython3",
   "version": "3.7.3"
  }
 },
 "nbformat": 4,
 "nbformat_minor": 5
}
