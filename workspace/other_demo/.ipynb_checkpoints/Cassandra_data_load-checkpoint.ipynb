{
 "cells": [
  {
   "cell_type": "code",
   "execution_count": 1,
   "metadata": {},
   "outputs": [],
   "source": [
    "import csv\n",
    "from cassandra.cluster import Cluster\n",
    "import json\n",
    "cluster = Cluster()\n",
    "session = cluster.connect()\n",
    "session.set_keyspace(\"bigdata\")\n",
    "session.execute(\"CREATE TABLE IF NOT EXISTS training (txn_id varchar PRIMARY KEY,cc_no bigint ,txn_time varchar, year smallint, month smallint, day smallint, hour smallint, minute smallint,amount float, cc_provider int, merchant varchar,merchant_index smallint, country_name varchar, country_code varchar,country_index smallint, age int, marital_status varchar,marital_status_index smallint,gender varchar,gender_index smallint,loan varchar,loan_index smallint, status varchar,status_index smallint)\")\n",
    "with open('50_50.csv', 'r',encoding=\"ISO-8859-1\") as csvfile:\n",
    "        reader=csv.reader(csvfile)\n",
    "        for row in reader:\n",
    "        \t#print(row)\n",
    "        \t#msg=json.loads(row)\n",
    "        \t#print(msg)\n",
    "        \tdic={\n",
    "        \t\"txn_id\":row[0],\n",
    "        \t\"cc_no\":row[1],\n",
    "        \t\"txn_time\":row[2],\n",
    "        \t\"year\":row[3],\n",
    "        \t\"month\":row[4],\n",
    "        \t\"day\":row[5],\n",
    "        \t\"hour\":row[6],\n",
    "        \t\"minute\":row[7],\n",
    "        \t\"amount\":row[8],\n",
    "        \t\"cc_provider\":row[9],\n",
    "        \t\"merchant\":row[10],\n",
    "            \"merchant_index\":row[11],\n",
    "        \t\"country_name\":row[12],\n",
    "        \t\"country_code\":row[13],\n",
    "            \"country_index\":row[14],\n",
    "        \t\"age\":row[15],\n",
    "        \t\"marital_status\":row[16],\n",
    "            \"marital_status_index\":row[17],\n",
    "        \t\"gender\":row[18],\n",
    "            \"gender_index\":row[19],\n",
    "        \t\"loan\":row[20],\n",
    "            \"loan_index\":row[21],\n",
    "        \t\"status\":row[22],\n",
    "            \"status_index\":row[23]\n",
    "        \t}            \n",
    "        \tr = json.dumps(dic)\n",
    "        \t#print(r)\n",
    "        \tstrq=\" INSERT INTO training JSON \"+\"'\"+r+\"'\"\n",
    "        \tsession.execute(strq)"
   ]
  },
  {
   "cell_type": "code",
   "execution_count": null,
   "metadata": {},
   "outputs": [],
   "source": []
  }
 ],
 "metadata": {
  "kernelspec": {
   "display_name": "Python 3",
   "language": "python",
   "name": "python3"
  },
  "language_info": {
   "codemirror_mode": {
    "name": "ipython",
    "version": 3
   },
   "file_extension": ".py",
   "mimetype": "text/x-python",
   "name": "python",
   "nbconvert_exporter": "python",
   "pygments_lexer": "ipython3",
   "version": "3.7.3"
  }
 },
 "nbformat": 4,
 "nbformat_minor": 2
}
